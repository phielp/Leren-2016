{
 "cells": [
  {
   "cell_type": "markdown",
   "metadata": {},
   "source": [
    "# Leren: Programming assignment 4\n",
    "\n",
    "**Student 1:**  <span style=\"color:red\">Wim Berkelmans</span> (<span style=\"color:red\">10793674</span>)<br>\n",
    "**Student 2:** <span style=\"color:red\">Philip Bouman</span> (<span style=\"color:red\">10668667</span>)<br>\n"
   ]
  },
  {
   "cell_type": "markdown",
   "metadata": {},
   "source": [
    "## 2. Compare classifiers\n",
    "a) Implementation"
   ]
  },
  {
   "cell_type": "code",
   "execution_count": 101,
   "metadata": {
    "collapsed": false
   },
   "outputs": [],
   "source": [
    "%matplotlib inline\n",
    "import numpy as np\n",
    "import matplotlib.pyplot as plt\n",
    "import numpy.linalg as linalg\n",
    "import scipy.ndimage\n",
    "import math\n",
    "from sklearn import linear_model, datasets\n",
    "from sklearn.neural_network import MLPClassifier\n",
    "from sklearn import neighbors\n",
    "\n",
    "# load data from file\n",
    "def readDigits(selection):\n",
    "    if selection == 'train':\n",
    "        data = np.loadtxt('digits123-1.csv', delimiter=';')\n",
    "    elif selection == 'test':\n",
    "        data = np.loadtxt('digits123-2.csv', delimiter=';')\n",
    "        \n",
    "    return data\n",
    "\n",
    "def initTrainTest():\n",
    "    DigitsTrain = readDigits('train')\n",
    "    TrainY = DigitsTrain[:,-1] # Y target values, last column of Digits\n",
    "    Train = np.delete(DigitsTrain, -1, 1) # remove target values\n",
    "    DigitsTest = readDigits('test')\n",
    "    TestY = DigitsTest[:,-1] # Y target values, last column of Digits\n",
    "    Test = np.delete(DigitsTest, -1, 1) # remove target values\n",
    "    return Train, TrainY, Test, TestY"
   ]
  },
  {
   "cell_type": "markdown",
   "metadata": {},
   "source": [
    "**Logistic Regression**\n"
   ]
  },
  {
   "cell_type": "code",
   "execution_count": 102,
   "metadata": {
    "collapsed": false
   },
   "outputs": [],
   "source": [
    "def logReg():\n",
    "    Train, TrainY, Test, TestY = initTrainTest()\n",
    "    logreg = linear_model.LogisticRegression(C=0.001, solver='newton-cg', \n",
    "                                    max_iter=100, multi_class='multinomial')\n",
    "    logreg.fit(Train, TrainY)\n",
    "\n",
    "    return logreg.score(Test,TestY)\n"
   ]
  },
  {
   "cell_type": "code",
   "execution_count": 103,
   "metadata": {
    "collapsed": false
   },
   "outputs": [
    {
     "data": {
      "text/plain": [
       "0.95416666666666672"
      ]
     },
     "execution_count": 103,
     "metadata": {},
     "output_type": "execute_result"
    }
   ],
   "source": [
    "logReg()"
   ]
  },
  {
   "cell_type": "markdown",
   "metadata": {},
   "source": [
    "**Neural Network**\n"
   ]
  },
  {
   "cell_type": "code",
   "execution_count": 104,
   "metadata": {
    "collapsed": false
   },
   "outputs": [],
   "source": [
    "def neuralNetwork():\n",
    "    Train, TrainY, Test, TestY = initTrainTest()\n",
    "    logreg = MLPClassifier(solver='adam', activation='logistic', \n",
    "                           alpha=0.001, hidden_layer_sizes=(50,))\n",
    "    logreg.fit(Train, TrainY)\n",
    "\n",
    "    return logreg.score(Test,TestY)\n"
   ]
  },
  {
   "cell_type": "code",
   "execution_count": 105,
   "metadata": {
    "collapsed": false
   },
   "outputs": [
    {
     "data": {
      "text/plain": [
       "0.94999999999999996"
      ]
     },
     "execution_count": 105,
     "metadata": {},
     "output_type": "execute_result"
    }
   ],
   "source": [
    "neuralNetwork()"
   ]
  },
  {
   "cell_type": "markdown",
   "metadata": {},
   "source": [
    "**Nearest Neighbour**\n"
   ]
  },
  {
   "cell_type": "code",
   "execution_count": 106,
   "metadata": {
    "collapsed": false
   },
   "outputs": [],
   "source": [
    "def nearestN(k):\n",
    "    Train, TrainY, Test, TestY = initTrainTest()\n",
    "    logreg = neighbors.KNeighborsClassifier(k, weights='distance')\n",
    "    logreg.fit(Train, TrainY)\n",
    "\n",
    "    return logreg.score(Test,TestY)\n"
   ]
  },
  {
   "cell_type": "code",
   "execution_count": 107,
   "metadata": {
    "collapsed": false
   },
   "outputs": [
    {
     "name": "stdout",
     "output_type": "stream",
     "text": [
      "NNB k=1  0.9875\n",
      "NNB k=3  0.983333333333\n",
      "NNB k=5  0.983333333333\n"
     ]
    }
   ],
   "source": [
    "print \"NNB k=1 \", nearestN(1)\n",
    "print \"NNB k=3 \", nearestN(3)\n",
    "print \"NNB k=5 \", nearestN(5)"
   ]
  },
  {
   "cell_type": "markdown",
   "metadata": {},
   "source": [
    "**Discussion:**\n",
    "\n",
    "\n",
    "-----------------------------------"
   ]
  }
 ],
 "metadata": {
  "kernelspec": {
   "display_name": "Python 2",
   "language": "python",
   "name": "python2"
  },
  "language_info": {
   "codemirror_mode": {
    "name": "ipython",
    "version": 2
   },
   "file_extension": ".py",
   "mimetype": "text/x-python",
   "name": "python",
   "nbconvert_exporter": "python",
   "pygments_lexer": "ipython2",
   "version": "2.7.10"
  }
 },
 "nbformat": 4,
 "nbformat_minor": 1
}
