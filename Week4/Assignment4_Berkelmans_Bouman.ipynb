{
 "cells": [
  {
   "cell_type": "markdown",
   "metadata": {},
   "source": [
    "# Leren: Programming assignment 4\n",
    "\n",
    "**Student 1:**  <span style=\"color:red\">Wim Berkelmans</span> (<span style=\"color:red\">10793674</span>)<br>\n",
    "**Student 2:** <span style=\"color:red\">Philip Bouman</span> (<span style=\"color:red\">10668667</span>)<br>\n",
    "\n",
    "-----------------------------------"
   ]
  },
  {
   "cell_type": "code",
   "execution_count": 1,
   "metadata": {
    "collapsed": false
   },
   "outputs": [],
   "source": [
    "%matplotlib inline\n",
    "import numpy as np\n",
    "import matplotlib.pyplot as plt\n",
    "import numpy.linalg as linalg\n",
    "import scipy.ndimage\n",
    "import operator\n",
    "import math\n",
    "import sklearn\n",
    "from sklearn import linear_model, datasets\n",
    "from sklearn.neural_network import MLPClassifier\n",
    "from sklearn import neighbors\n",
    "\n",
    "# Load data from .csv \n",
    "def readData():\n",
    "    training_set = np.loadtxt('digits123-1.csv', skiprows = 1, delimiter=';');\n",
    "    test_set = np.loadtxt('digits123-2.csv', skiprows = 1, delimiter=';');\n",
    "    return training_set, test_set"
   ]
  },
  {
   "cell_type": "markdown",
   "metadata": {},
   "source": [
    "## 1. K-nearest neighbour\n",
    "####  a) Implementation"
   ]
  },
  {
   "cell_type": "code",
   "execution_count": 7,
   "metadata": {
    "collapsed": false
   },
   "outputs": [
    {
     "name": "stdout",
     "output_type": "stream",
     "text": [
      "Accuracy:  98.7447698745\n",
      "Accuracy:  97.9079497908\n",
      "Accuracy:  97.9079497908\n"
     ]
    }
   ],
   "source": [
    "# Calculate Euclidian distance between two values\n",
    "def euclideanDistance(data1, data2):\n",
    "    dist = 0\n",
    "    for i in range(len(data1)-1):\n",
    "        dist += pow((data1[i] - data2[i]), 2)\n",
    "        \n",
    "    return math.sqrt(dist)\n",
    "    \n",
    "# Get most similar neighbors\n",
    "def getNeighbors(training_set, test_set, k):\n",
    "    distances = []\n",
    "    for i in range(len(training_set)):\n",
    "        dist = euclideanDistance(training_set[i], test_set)\n",
    "        distances.append((training_set[i], dist))\n",
    "        \n",
    "    distances.sort(key=operator.itemgetter(1))\n",
    "    neighbors = []\n",
    "    for i in range(k):\n",
    "        neighbors.append(distances[i][0])\n",
    "        \n",
    "    return neighbors\n",
    "\n",
    "# Get votes for response\n",
    "def getResponse(neighbors):\n",
    "    classVotes = {}\n",
    "    for i in range(len(neighbors)):\n",
    "        response = neighbors[i][-1]\n",
    "        if response in classVotes:\n",
    "            classVotes[response] += 1\n",
    "        else:\n",
    "            classVotes[response] = 1\n",
    "        sortedVotes = sorted(classVotes.iteritems(), key=operator.itemgetter(1), reverse=True)\n",
    "\n",
    "    return sortedVotes[0][0]\n",
    "            \n",
    "# Count number of correct predictions\n",
    "def getAccuracy(test_set, target):\n",
    "    correct = 0\n",
    "    for i in range(len(test_set)):\n",
    "        if test_set[i][-1] == target[i]:\n",
    "            correct += 1\n",
    "            \n",
    "    return (correct/float(len(test_set))) * 100.0\n",
    "    \n",
    "# Main method\n",
    "def k_nearest_neighbor(k):\n",
    "    training_set, test_set = readData()\n",
    "    predictions = []\n",
    "    \n",
    "    for i in range(len(test_set)):\n",
    "        neighbors = getNeighbors(training_set, test_set[i], k)\n",
    "        result = getResponse(neighbors)\n",
    "        predictions.append(result)\n",
    "        \n",
    "    accuracy = getAccuracy(test_set, predictions)\n",
    "    print \"Accuracy: \", accuracy \n",
    "    \n",
    "# run with differnt k's\n",
    "k_nearest_neighbor(1)\n",
    "k_nearest_neighbor(3)\n",
    "k_nearest_neighbor(5)"
   ]
  },
  {
   "cell_type": "markdown",
   "metadata": {},
   "source": [
    "#### b) Weighted nearest neighbour"
   ]
  },
  {
   "cell_type": "code",
   "execution_count": null,
   "metadata": {
    "collapsed": true
   },
   "outputs": [],
   "source": []
  },
  {
   "cell_type": "markdown",
   "metadata": {},
   "source": [
    "#### c) Predictive value"
   ]
  },
  {
   "cell_type": "code",
   "execution_count": null,
   "metadata": {
    "collapsed": true
   },
   "outputs": [],
   "source": []
  },
  {
   "cell_type": "markdown",
   "metadata": {},
   "source": [
    "## 2. Compare classifiers\n",
    "#### a) Implementation"
   ]
  },
  {
   "cell_type": "code",
   "execution_count": 3,
   "metadata": {
    "collapsed": true
   },
   "outputs": [],
   "source": [
    "# load data from file\n",
    "def readDigits(selection):\n",
    "    if selection == 'train':\n",
    "        data = np.loadtxt('digits123-1.csv', delimiter=';')\n",
    "    elif selection == 'test':\n",
    "        data = np.loadtxt('digits123-2.csv', delimiter=';')\n",
    "        \n",
    "    return data\n",
    "\n",
    "def initTrainTest():\n",
    "    DigitsTrain = readDigits('train')\n",
    "    TrainY = DigitsTrain[:,-1] # Y target values, last column of Digits\n",
    "    Train = np.delete(DigitsTrain, -1, 1) # remove target values\n",
    "    DigitsTest = readDigits('test')\n",
    "    TestY = DigitsTest[:,-1] # Y target values, last column of Digits\n",
    "    Test = np.delete(DigitsTest, -1, 1) # remove target values\n",
    "    return Train, TrainY, Test, TestY"
   ]
  },
  {
   "cell_type": "markdown",
   "metadata": {},
   "source": [
    "**Logistic Regression**\n",
    "\n"
   ]
  },
  {
   "cell_type": "code",
   "execution_count": 4,
   "metadata": {
    "collapsed": false
   },
   "outputs": [
    {
     "data": {
      "text/plain": [
       "0.95416666666666672"
      ]
     },
     "execution_count": 4,
     "metadata": {},
     "output_type": "execute_result"
    }
   ],
   "source": [
    "def logReg():\n",
    "    Train, TrainY, Test, TestY = initTrainTest()\n",
    "    logreg = linear_model.LogisticRegression(C=0.001, solver='newton-cg', \n",
    "                                    max_iter=100, multi_class='multinomial')\n",
    "    logreg.fit(Train, TrainY)\n",
    "\n",
    "    return logreg.score(Test,TestY)\n",
    "\n",
    "logReg()"
   ]
  },
  {
   "cell_type": "markdown",
   "metadata": {},
   "source": [
    "**Neural Network**\n",
    "\n"
   ]
  },
  {
   "cell_type": "code",
   "execution_count": 5,
   "metadata": {
    "collapsed": false
   },
   "outputs": [
    {
     "data": {
      "text/plain": [
       "0.95416666666666672"
      ]
     },
     "execution_count": 5,
     "metadata": {},
     "output_type": "execute_result"
    }
   ],
   "source": [
    "def neuralNetwork():\n",
    "    Train, TrainY, Test, TestY = initTrainTest()\n",
    "    logreg = MLPClassifier(solver='adam', activation='logistic', \n",
    "                           alpha=0.001, hidden_layer_sizes=(50,))\n",
    "    logreg.fit(Train, TrainY)\n",
    "\n",
    "    return logreg.score(Test,TestY)\n",
    "\n",
    "neuralNetwork()"
   ]
  },
  {
   "cell_type": "markdown",
   "metadata": {},
   "source": [
    "**Nearest Neighbour**\n",
    "\n"
   ]
  },
  {
   "cell_type": "code",
   "execution_count": 6,
   "metadata": {
    "collapsed": false
   },
   "outputs": [
    {
     "name": "stdout",
     "output_type": "stream",
     "text": [
      "NNB k=1  0.9875\n",
      "NNB k=3  0.983333333333\n",
      "NNB k=5  0.983333333333\n"
     ]
    }
   ],
   "source": [
    "def nearestN(k):\n",
    "    Train, TrainY, Test, TestY = initTrainTest()\n",
    "    logreg = neighbors.KNeighborsClassifier(k, weights='distance')\n",
    "    logreg.fit(Train, TrainY)\n",
    "\n",
    "    return logreg.score(Test,TestY)\n",
    "\n",
    "print \"NNB k=1 \", nearestN(1)\n",
    "print \"NNB k=3 \", nearestN(3)\n",
    "print \"NNB k=5 \", nearestN(5)"
   ]
  },
  {
   "cell_type": "code",
   "execution_count": null,
   "metadata": {
    "collapsed": true
   },
   "outputs": [],
   "source": []
  }
 ],
 "metadata": {
  "kernelspec": {
   "display_name": "Python 2",
   "language": "python",
   "name": "python2"
  },
  "language_info": {
   "codemirror_mode": {
    "name": "ipython",
    "version": 2
   },
   "file_extension": ".py",
   "mimetype": "text/x-python",
   "name": "python",
   "nbconvert_exporter": "python",
   "pygments_lexer": "ipython2",
   "version": "2.7.10"
  }
 },
 "nbformat": 4,
 "nbformat_minor": 1
}
