{
 "cells": [
  {
   "cell_type": "markdown",
   "metadata": {},
   "source": [
    "## Leren: Programming Assignment 2\n",
    "#### Wim Berkelmans, 10793674\n",
    "#### Philip Bouman, 10668667\n",
    "\n",
    "\n",
    "### 1. Read data from file"
   ]
  },
  {
   "cell_type": "code",
   "execution_count": 1,
   "metadata": {
    "collapsed": false
   },
   "outputs": [],
   "source": [
    "%matplotlib inline\n",
    "import numpy as np\n",
    "import matplotlib.pyplot as plt\n",
    "import numpy.linalg as linalg\n",
    "\n",
    "def loadData(feature):\n",
    "    # load input:\n",
    "    # features: Bedrooms, Bathrooms, Size\n",
    "    # target: Price\n",
    "    data = np.loadtxt('HousesRegr.csv', skiprows = 1, delimiter=';');\n",
    "    columns = ['MLS','Bedrooms','Bathrooms','Size','Price']\n",
    "    index = columns.index(feature)\n",
    "    return data[:,index]\n",
    "\n",
    "bedroom = loadData('Bedrooms')\n",
    "bathroom = loadData('Bathrooms')\n",
    "size = loadData('Size')\n",
    "price = loadData('Price')\n",
    "\n",
    "# create easy format and add x_0's\n",
    "def designMatrix(n):\n",
    "    data = np.loadtxt('HousesRegr.csv', skiprows = 1, delimiter=';');\n",
    "    m = len(data)\n",
    "    X = np.ones((m,n))\n",
    "    for i in range(m):\n",
    "        for j in range(1,n):\n",
    "            X[i, j] = data[i,j]\n",
    "    return X\n",
    "\n",
    "# vectorize predicted output\n",
    "def targetVec(y):\n",
    "    Y = y[:, np.newaxis] \n",
    "    return Y"
   ]
  },
  {
   "cell_type": "code",
   "execution_count": 12,
   "metadata": {
    "collapsed": false
   },
   "outputs": [
    {
     "name": "stdout",
     "output_type": "stream",
     "text": [
      "[[1 2 3]\n",
      " [1 4 5]\n",
      " [1 4 3]]\n",
      "[ 8.  2. -2.]\n"
     ]
    }
   ],
   "source": [
    "def regressionVec(X, Y):\n",
    "    \n",
    "    # apply normal equation\n",
    "    norm = np.dot(np.dot(linalg.inv(np.dot(X.T, X)), X.T), Y)\n",
    "    \n",
    "    return norm\n",
    "\n",
    "X = np.array([[1,2,3],[1,4,5],[1,4,3]])\n",
    "Y = np.array([6,6,10])\n",
    "\n",
    "# X = designMatrix(4)\n",
    "# Y = targetVec(price)\n",
    "\n",
    "print X\n",
    "# print Y\n",
    "\n",
    "Theta = regressionVec(X, Y)\n",
    "print Theta"
   ]
  },
  {
   "cell_type": "code",
   "execution_count": 14,
   "metadata": {
    "collapsed": false
   },
   "outputs": [
    {
     "name": "stdout",
     "output_type": "stream",
     "text": [
      "5.37740183726e-29\n"
     ]
    }
   ],
   "source": [
    "def calcCostVec(X, Y, Theta):\n",
    "    m = len(Y)\n",
    "    errorSquared = (np.dot(X, Theta) - Y)**2\n",
    "    \n",
    "    # sum over errorSquared by multiplying with a rowvector of ones\n",
    "    ones = np.ones(m)\n",
    "    cost = np.dot(ones.T, errorSquared)/(2.0*m)\n",
    "    return cost\n",
    "\n",
    "cost = calcCostVec(X, Y, Theta)\n",
    "print cost"
   ]
  },
  {
   "cell_type": "code",
   "execution_count": 46,
   "metadata": {
    "collapsed": false
   },
   "outputs": [
    {
     "name": "stdout",
     "output_type": "stream",
     "text": [
      "[  3.   4.   4.   4.   3.   3.   4.   3.   4.   3.   3.   3.   2.   3.   3.\n",
      "   4.   4.   3.   3.   3.   4.   3.   2.   3.   3.   4.   3.   4.   3.   3.\n",
      "   3.   3.   3.   3.   3.   2.   2.   3.   4.   3.   4.   3.   3.   3.   3.\n",
      "   4.   3.   3.   4.   4.   3.   3.   2.   4.   3.   2.   3.   4.   4.   4.\n",
      "   3.   3.   3.   3.   3.   2.   3.   3.   2.   4.   4.   3.   3.   4.   3.\n",
      "   7.   1.   4.   3.   3.   4.   4.   1.   3.   3.   2.   3.   4.   3.   3.\n",
      "   3.   3.   3.   3.   3.   5.   3.   3.   3.   3.   3.   3.   0.   4.   3.\n",
      "   3.   2.   3.   2.   4.   4.   4.   4.   3.   2.   4.   4.   3.   3.   3.\n",
      "   3.   3.   5.   4.   4.   4.   4.   2.   2.   3.   4.   1.   2.   2.   3.\n",
      "   3.   4.   2.   2.   2.   3.   3.   3.   3.   3.   3.   2.   3.   3.   3.\n",
      "   4.   4.   3.   2.   3.   3.   4.   3.   3.   4.   5.   3.   3.   2.   2.\n",
      "   4.   3.   3.   4.   2.   2.   3.   5.   1.   3.   5.   2.   3.   3.   3.\n",
      "   3.   3.   3.   3.   2.   3.   3.   5.   2.   2.   2.   2.   2.   2.   4.\n",
      "   3.   4.   3.   4.   4.   3.   5.   3.   3.   3.   3.   4.   1.   3.   3.\n",
      "   3.   4.   2.   3.   3.   4.   2.   3.   4.   4.   3.   3.   3.   3.   3.\n",
      "   4.   2.   4.   4.   4.   2.   3.   2.   3.   3.   2.   2.   4.   3.   3.\n",
      "   3.   3.   2.   3.   3.   3.   4.   3.   3.   3.   3.   3.   3.   0.   3.\n",
      "   4.   2.   2.   4.   3.   3.   4.   3.   3.   2.   2.   2.   3.   4.   4.\n",
      "   2.   2.   3.   3.   4.   3.   3.   3.   2.   3.   3.   3.   3.   4.   2.\n",
      "   3.   4.   2.   3.   4.   3.   3.   3.   3.   4.   3.   3.   2.   4.   4.\n",
      "   3.   3.   2.   5.   3.   3.   4.   3.   3.   4.   3.   2.   3.   5.   4.\n",
      "   3.   3.   2.   4.   3.   3.   3.   3.   2.   2.   3.   4.   3.   4.   4.\n",
      "   4.   3.   2.   3.   2.   4.   3.   3.   4.   4.   2.   4.   3.   4.   3.\n",
      "   2.   3.   3.   1.   5.   3.   3.   3.   5.   2.   4.   4.   3.   3.   3.\n",
      "   3.   2.   3.   3.   4.   3.   3.   5.   3.   3.   4.   2.   4.   3.   4.\n",
      "   3.   3.   3.   2.   3.   3.   4.   3.   3.   5.   3.   3.   4.   3.   2.\n",
      "   2.   3.   2.   3.   3.   4.   2.   4.   3.   3.   4.   3.   3.   3.   3.\n",
      "   3.   2.   4.   3.   4.   4.   4.   3.   3.   2.   3.   4.   2.   3.   5.\n",
      "   3.   2.   3.   3.   3.   2.   4.   4.   3.   4.   3.   3.   3.   3.   4.\n",
      "   5.   3.   4.   3.   3.   3.   3.   3.   6.   3.   5.   4.   2.   3.   4.\n",
      "   3.   3.   3.   3.   3.   2.   4.   6.   2.   3.   3.   4.   3.   3.   3.\n",
      "   3.   3.   3.   2.   5.   4.   3.   3.   3.   3.   4.   3.   3.   2.   3.\n",
      "   4.   3.   3.   4.   2.   5.   2.   3.   4.   3.   3.   4.   3.   3.   6.\n",
      "   3.   3.   4.   3.   3.   2.   3.   4.   3.   3.   3.   3.   3.   3.   3.\n",
      "   3.   4.   1.   2.   3.   4.   3.   3.   3.   4.   4.   3.   3.   4.   4.\n",
      "   4.   4.   3.   3.   5.   3.   3.   3.   3.   1.   3.   2.   2.   4.   3.\n",
      "   3.   4.   3.   3.   2.   3.   4.   4.   4.   2.   3.   4.   3.   4.   4.\n",
      "   3.   3.   3.   3.   3.   3.   5.   2.   3.   3.   3.   3.   3.   4.   5.\n",
      "   3.   4.   4.   3.   4.   4.   4.   3.   3.   3.   3.   4.   3.   3.   3.\n",
      "   3.   2.   3.   3.   4.   5.   4.   2.   3.   3.   3.   3.   3.   3.   3.\n",
      "   3.   3.   3.   3.   2.   3.   4.   3.   3.   4.   1.   4.   4.   3.   3.\n",
      "   3.   3.   3.   3.   3.   3.   3.   4.   3.   3.   3.   3.   2.   2.   2.\n",
      "   2.   2.   3.   3.   5.   3.   1.   3.   4.  10.   2.   2.   3.   3.   5.\n",
      "   3.   3.   4.   3.   4.   4.   3.   3.   3.   3.   3.   3.   4.   2.   3.\n",
      "   2.   3.   4.   4.   2.   3.   2.   3.   3.   3.   3.   3.   4.   4.   3.\n",
      "   3.   3.   3.   3.   3.   3.   3.   3.   3.   3.   3.   4.   4.   3.   2.\n",
      "   3.   3.   4.   2.   3.   3.   3.   2.   3.   3.   3.   2.   5.   2.   3.\n",
      "   3.   3.   3.   4.   4.   3.   3.   2.   2.   2.   3.   3.   5.   5.   2.\n",
      "   3.   4.   2.   5.   3.   3.   2.   5.   1.   4.   4.   5.   6.   3.   3.\n",
      "   3.   3.   4.   4.   2.   3.   3.   4.   4.   4.   3.   3.   4.   3.   2.\n",
      "   2.   3.   2.   4.   3.   2.   2.   3.   3.   4.   3.   3.   4.   2.   3.\n",
      "   3.   5.   4.   2.   4.   2.   3.   3.   2.   4.   3.   3.   3.   3.   3.\n",
      "   3.]\n",
      "[ 0.  0.]\n",
      "781\n",
      "1\n"
     ]
    }
   ],
   "source": [
    "def gradientIter(thetas, y, *args):\n",
    "    m = len(args[0])\n",
    "    n = len(args)\n",
    "    sum_thetas = np.zeros(n+1)\n",
    "    print sum_thetas\n",
    "    print m\n",
    "    print n\n",
    "    \n",
    "#     for i in range(m):\n",
    "#         sum_theta_0 += theta_ * x[i] + theta_0 - y[i]\n",
    "        \n",
    "#         sum_theta_1 += x[i] * (theta_1 * x[i] + theta_0 - y[i])\n",
    "        \n",
    "#         sum_theta_2 += x[i] * (theta_2 + x[i] + theta_1 * x[i] + theta_0 - y[i])\n",
    "        \n",
    "    for i in range(m):\n",
    "        for j in range(n+1):\n",
    "            h = 0\n",
    "            for k in range(n-1):\n",
    "                h += thetas[0]\n",
    "                h += thetas[k+1] * args[k+1][i]\n",
    "                print h    \n",
    "        \n",
    "        sum_thetas[j] += h - y[j]    \n",
    "                \n",
    "                \n",
    "        \n",
    "\n",
    "#     new_theta_0 = theta_0 - ((1.0/m)*sum_theta_0 * alpha)\n",
    "#     new_theta_1 =theta_1 - ((1.0/m)*sum_theta_1 * alpha)\n",
    "\n",
    "thetas = [0.5,0.5]\n",
    "print bedroom\n",
    "\n",
    "gradientIter(price, thetas, bedroom)"
   ]
  },
  {
   "cell_type": "code",
   "execution_count": 25,
   "metadata": {
    "collapsed": false
   },
   "outputs": [
    {
     "name": "stdout",
     "output_type": "stream",
     "text": [
      "[  3.   4.   4.   4.   3.   3.   4.   3.   4.   3.   3.   3.   2.   3.   3.\n",
      "   4.   4.   3.   3.   3.   4.   3.   2.   3.   3.   4.   3.   4.   3.   3.\n",
      "   3.   3.   3.   3.   3.   2.   2.   3.   4.   3.   4.   3.   3.   3.   3.\n",
      "   4.   3.   3.   4.   4.   3.   3.   2.   4.   3.   2.   3.   4.   4.   4.\n",
      "   3.   3.   3.   3.   3.   2.   3.   3.   2.   4.   4.   3.   3.   4.   3.\n",
      "   7.   1.   4.   3.   3.   4.   4.   1.   3.   3.   2.   3.   4.   3.   3.\n",
      "   3.   3.   3.   3.   3.   5.   3.   3.   3.   3.   3.   3.   0.   4.   3.\n",
      "   3.   2.   3.   2.   4.   4.   4.   4.   3.   2.   4.   4.   3.   3.   3.\n",
      "   3.   3.   5.   4.   4.   4.   4.   2.   2.   3.   4.   1.   2.   2.   3.\n",
      "   3.   4.   2.   2.   2.   3.   3.   3.   3.   3.   3.   2.   3.   3.   3.\n",
      "   4.   4.   3.   2.   3.   3.   4.   3.   3.   4.   5.   3.   3.   2.   2.\n",
      "   4.   3.   3.   4.   2.   2.   3.   5.   1.   3.   5.   2.   3.   3.   3.\n",
      "   3.   3.   3.   3.   2.   3.   3.   5.   2.   2.   2.   2.   2.   2.   4.\n",
      "   3.   4.   3.   4.   4.   3.   5.   3.   3.   3.   3.   4.   1.   3.   3.\n",
      "   3.   4.   2.   3.   3.   4.   2.   3.   4.   4.   3.   3.   3.   3.   3.\n",
      "   4.   2.   4.   4.   4.   2.   3.   2.   3.   3.   2.   2.   4.   3.   3.\n",
      "   3.   3.   2.   3.   3.   3.   4.   3.   3.   3.   3.   3.   3.   0.   3.\n",
      "   4.   2.   2.   4.   3.   3.   4.   3.   3.   2.   2.   2.   3.   4.   4.\n",
      "   2.   2.   3.   3.   4.   3.   3.   3.   2.   3.   3.   3.   3.   4.   2.\n",
      "   3.   4.   2.   3.   4.   3.   3.   3.   3.   4.   3.   3.   2.   4.   4.\n",
      "   3.   3.   2.   5.   3.   3.   4.   3.   3.   4.   3.   2.   3.   5.   4.\n",
      "   3.   3.   2.   4.   3.   3.   3.   3.   2.   2.   3.   4.   3.   4.   4.\n",
      "   4.   3.   2.   3.   2.   4.   3.   3.   4.   4.   2.   4.   3.   4.   3.\n",
      "   2.   3.   3.   1.   5.   3.   3.   3.   5.   2.   4.   4.   3.   3.   3.\n",
      "   3.   2.   3.   3.   4.   3.   3.   5.   3.   3.   4.   2.   4.   3.   4.\n",
      "   3.   3.   3.   2.   3.   3.   4.   3.   3.   5.   3.   3.   4.   3.   2.\n",
      "   2.   3.   2.   3.   3.   4.   2.   4.   3.   3.   4.   3.   3.   3.   3.\n",
      "   3.   2.   4.   3.   4.   4.   4.   3.   3.   2.   3.   4.   2.   3.   5.\n",
      "   3.   2.   3.   3.   3.   2.   4.   4.   3.   4.   3.   3.   3.   3.   4.\n",
      "   5.   3.   4.   3.   3.   3.   3.   3.   6.   3.   5.   4.   2.   3.   4.\n",
      "   3.   3.   3.   3.   3.   2.   4.   6.   2.   3.   3.   4.   3.   3.   3.\n",
      "   3.   3.   3.   2.   5.   4.   3.   3.   3.   3.   4.   3.   3.   2.   3.\n",
      "   4.   3.   3.   4.   2.   5.   2.   3.   4.   3.   3.   4.   3.   3.   6.\n",
      "   3.   3.   4.   3.   3.   2.   3.   4.   3.   3.   3.   3.   3.   3.   3.\n",
      "   3.   4.   1.   2.   3.   4.   3.   3.   3.   4.   4.   3.   3.   4.   4.\n",
      "   4.   4.   3.   3.   5.   3.   3.   3.   3.   1.   3.   2.   2.   4.   3.\n",
      "   3.   4.   3.   3.   2.   3.   4.   4.   4.   2.   3.   4.   3.   4.   4.\n",
      "   3.   3.   3.   3.   3.   3.   5.   2.   3.   3.   3.   3.   3.   4.   5.\n",
      "   3.   4.   4.   3.   4.   4.   4.   3.   3.   3.   3.   4.   3.   3.   3.\n",
      "   3.   2.   3.   3.   4.   5.   4.   2.   3.   3.   3.   3.   3.   3.   3.\n",
      "   3.   3.   3.   3.   2.   3.   4.   3.   3.   4.   1.   4.   4.   3.   3.\n",
      "   3.   3.   3.   3.   3.   3.   3.   4.   3.   3.   3.   3.   2.   2.   2.\n",
      "   2.   2.   3.   3.   5.   3.   1.   3.   4.  10.   2.   2.   3.   3.   5.\n",
      "   3.   3.   4.   3.   4.   4.   3.   3.   3.   3.   3.   3.   4.   2.   3.\n",
      "   2.   3.   4.   4.   2.   3.   2.   3.   3.   3.   3.   3.   4.   4.   3.\n",
      "   3.   3.   3.   3.   3.   3.   3.   3.   3.   3.   3.   4.   4.   3.   2.\n",
      "   3.   3.   4.   2.   3.   3.   3.   2.   3.   3.   3.   2.   5.   2.   3.\n",
      "   3.   3.   3.   4.   4.   3.   3.   2.   2.   2.   3.   3.   5.   5.   2.\n",
      "   3.   4.   2.   5.   3.   3.   2.   5.   1.   4.   4.   5.   6.   3.   3.\n",
      "   3.   3.   4.   4.   2.   3.   3.   4.   4.   4.   3.   3.   4.   3.   2.\n",
      "   2.   3.   2.   4.   3.   2.   2.   3.   3.   4.   3.   3.   4.   2.   3.\n",
      "   3.   5.   4.   2.   4.   2.   3.   3.   2.   4.   3.   3.   3.   3.   3.\n",
      "   3.]\n"
     ]
    }
   ],
   "source": [
    "def regressionIter(*args):\n",
    "    print args[0]\n",
    "#     for a in args:\n",
    "#         print a\n",
    "        \n",
    "regressionIter(bedroom, bathroom, price)        \n"
   ]
  },
  {
   "cell_type": "code",
   "execution_count": null,
   "metadata": {
    "collapsed": true
   },
   "outputs": [],
   "source": []
  }
 ],
 "metadata": {
  "kernelspec": {
   "display_name": "Python 2",
   "language": "python",
   "name": "python2"
  },
  "language_info": {
   "codemirror_mode": {
    "name": "ipython",
    "version": 2
   },
   "file_extension": ".py",
   "mimetype": "text/x-python",
   "name": "python",
   "nbconvert_exporter": "python",
   "pygments_lexer": "ipython2",
   "version": "2.7.10"
  }
 },
 "nbformat": 4,
 "nbformat_minor": 1
}
