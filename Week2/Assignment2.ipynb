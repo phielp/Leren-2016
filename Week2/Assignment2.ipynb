{
 "cells": [
  {
   "cell_type": "markdown",
   "metadata": {},
   "source": [
    "## Leren: Programming Assignment 2\n",
    "#### Wim Berkelmans, 10793674\n",
    "#### Philip Bouman, 10668667\n",
    "\n",
    "\n",
    "### 1. Read data from file"
   ]
  },
  {
   "cell_type": "code",
   "execution_count": 337,
   "metadata": {
    "collapsed": false
   },
   "outputs": [],
   "source": [
    "%matplotlib inline\n",
    "import numpy as np\n",
    "import matplotlib.pyplot as plt\n",
    "import numpy.linalg as linalg\n",
    "\n",
    "def loadData(feature):\n",
    "    # load input:\n",
    "    # features: Bedrooms, Bathrooms, Size\n",
    "    # target: Price\n",
    "    data = np.loadtxt('HousesRegr.csv', skiprows = 1, delimiter=';');\n",
    "    columns = ['MLS','Bedrooms','Bathrooms','Size','Price']\n",
    "    index = columns.index(feature)\n",
    "    return data[:,index]\n",
    "\n",
    "bedroom = loadData('Bedrooms')\n",
    "bathroom = loadData('Bathrooms')\n",
    "size = loadData('Size')\n",
    "price = loadData('Price')\n",
    "\n",
    "# create easy format and add x_0's\n",
    "def designMatrix(n):\n",
    "    data = np.loadtxt('HousesRegr.csv', skiprows = 1, delimiter=';');\n",
    "    m = len(data)\n",
    "    X = np.ones((m,n))\n",
    "    for i in range(m):\n",
    "        for j in range(1,n):\n",
    "            X[i, j] = data[i,j]\n",
    "    return X\n",
    "\n",
    "# vectorize predicted output\n",
    "def targetVec(y):\n",
    "    Y = y[:, np.newaxis] \n",
    "    return Y"
   ]
  },
  {
   "cell_type": "code",
   "execution_count": 494,
   "metadata": {
    "collapsed": false
   },
   "outputs": [
    {
     "name": "stdout",
     "output_type": "stream",
     "text": [
      "[[ -64463.72009442]\n",
      " [ -32971.93736837]\n",
      " [ 234043.11668245]]\n"
     ]
    }
   ],
   "source": [
    "def regressionVec(X, Y):\n",
    "    \n",
    "    # apply normal equation\n",
    "    norm = np.dot(np.dot(linalg.inv(np.dot(X.T, X)), X.T), Y)\n",
    "    return norm\n",
    "\n",
    "# X = np.array([[1,2,3],[1,4,5],[1,4,3]])\n",
    "# Y = np.array([6,6,10])\n",
    "\n",
    "X = designMatrix(3)\n",
    "Y = targetVec(price)\n",
    "\n",
    "\n",
    "Theta = regressionVec(X, Y)\n",
    "print Theta"
   ]
  },
  {
   "cell_type": "code",
   "execution_count": 495,
   "metadata": {
    "collapsed": false
   },
   "outputs": [
    {
     "name": "stdout",
     "output_type": "stream",
     "text": [
      "[  4.41188991e+10]\n"
     ]
    }
   ],
   "source": [
    "def calcCostVec(X, Y, Theta):\n",
    "    m = len(Y)\n",
    "    errorSquared = (np.dot(X, Theta) - Y)**2\n",
    "    \n",
    "    # sum over errorSquared by multiplying with a rowvector of ones\n",
    "    ones = np.ones(m)\n",
    "    cost = np.dot(ones.T, errorSquared)/(2.0*m)\n",
    "    return cost\n",
    "\n",
    "cost = calcCostVec(X, Y, Theta)\n",
    "print cost"
   ]
  },
  {
   "cell_type": "code",
   "execution_count": 516,
   "metadata": {
    "collapsed": false
   },
   "outputs": [
    {
     "name": "stdout",
     "output_type": "stream",
     "text": [
      "[ 0.30023111  0.54391111  0.54176   ]\n"
     ]
    }
   ],
   "source": [
    "# Version 1\n",
    "def gradientIter(X, Y, Thetas, alpha):\n",
    "    # number of training examples\n",
    "    m = len(X)\n",
    "    # number of features\n",
    "    n = len(X[0])\n",
    "    \n",
    "    theta_temp = np.zeros(n)\n",
    "    new_thetas = np.zeros(n)\n",
    "    \n",
    "    # loop over thetas\n",
    "    for i in range(n):\n",
    "        index = 0\n",
    "        # loop over training examples        \n",
    "        for j in range(m):\n",
    "            h = 0\n",
    "            # loop over features\n",
    "            for k in range(n):\n",
    "                h += (Thetas[k] * X[j][k])\n",
    "            \n",
    "            theta_temp[i] += (h - Y[j]) * X[j][i]\n",
    "            \n",
    "        new_thetas[i] = Thetas[i] - alpha * 1.0/m * theta_temp[i]\n",
    "        \n",
    "    return new_thetas\n",
    "\n",
    "# Version 2\n",
    "def gradientIter2(X, Y, Thetas, alpha):\n",
    "    m = len(X)\n",
    "    n = len(X[0])\n",
    "    \n",
    "    theta_temp = np.zeros((m,n))\n",
    "    new_thetas = np.zeros(n) \n",
    "    \n",
    "    # loop over training examples\n",
    "    for i in range(m):\n",
    "\n",
    "        # loop over thetas/features\n",
    "        # calculate and store intermediate values for thetas (all the calculations for one training example)\n",
    "        for j in range(n):\n",
    "            theta_temp[i][j] = (np.sum(Thetas[:n] * X[i,:n]) - Y[i]) * X[i][j]\n",
    "    \n",
    "    # sum over intermediate values and apply learning rate and normalization\n",
    "    for i in range(n):\n",
    "        new_thetas[i] = Thetas[i] - alpha * 1.0/m * np.sum(theta_temp[0:m,i])\n",
    "    \n",
    "    return new_thetas\n",
    "    \n",
    "def regressionIter(X, Y, Thetas, alpha, n_iter):\n",
    "    while n_iter > 0:\n",
    "        step = gradientIter(X, Y, Thetas, alpha)\n",
    "        Thetas = step\n",
    "        n_iter -= 1\n",
    "    return step\n",
    "\n",
    "def regressionIter2(X, Y, Thetas, alpha, n_iter):\n",
    "    cost = np.zeros(n_iter)\n",
    "    for i in range(n_iter):\n",
    "        step = gradientIter2(X, Y, Thetas, alpha)\n",
    "        cost[i] = calcCost(Thetas, X, Y)\n",
    "        Thetas = step\n",
    "        n_iter -= 1\n",
    "        \n",
    "    return step, cost\n",
    "\n",
    "\n",
    "X = designMatrix(4)\n",
    "Y = targetVec(price)\n",
    "\n",
    "X = np.array([[1,2,3],[1,4,5],[1,4,3]])\n",
    "Y = np.array([6,6,10])\n",
    "\n",
    "Thetas = [0.2,0.2,0.2]\n",
    "\n",
    "vals = regressionIter2(X, Y, Thetas, 0.01, 2)\n",
    "print vals[0]\n",
    "# print vals[1]\n",
    "\n",
    "# val = regressionIter(X, Y, Thetas, 0.01, 2)\n",
    "# print val\n"
   ]
  },
  {
   "cell_type": "code",
   "execution_count": 515,
   "metadata": {
    "collapsed": false
   },
   "outputs": [],
   "source": [
    "def calcCost(Thetas, X, Y):\n",
    "    m = len(X)\n",
    "    n = len(Thetas)\n",
    "    cost_sum = 0\n",
    "    \n",
    "    for i in range(n):  \n",
    "        cost_sum += (np.sum(Thetas[:n] * X[i,:n]) - Y[i])**2\n",
    "            \n",
    "    cost = cost_sum / (2.0*m)    \n",
    "    return cost"
   ]
  },
  {
   "cell_type": "code",
   "execution_count": null,
   "metadata": {
    "collapsed": true
   },
   "outputs": [],
   "source": []
  }
 ],
 "metadata": {
  "kernelspec": {
   "display_name": "Python 2",
   "language": "python",
   "name": "python2"
  },
  "language_info": {
   "codemirror_mode": {
    "name": "ipython",
    "version": 2
   },
   "file_extension": ".py",
   "mimetype": "text/x-python",
   "name": "python",
   "nbconvert_exporter": "python",
   "pygments_lexer": "ipython2",
   "version": "2.7.10"
  }
 },
 "nbformat": 4,
 "nbformat_minor": 1
}
