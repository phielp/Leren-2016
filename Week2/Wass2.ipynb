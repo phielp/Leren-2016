{
 "cells": [
  {
   "cell_type": "markdown",
   "metadata": {},
   "source": [
    "## Leren: Programming Assignment 1\n",
    "#### Wim Berkelmans, 10793674\n",
    "#### Philip Bouman, 10668667\n",
    "\n",
    "\n",
    "### 1. Read data from file"
   ]
  },
  {
   "cell_type": "code",
   "execution_count": 26,
   "metadata": {
    "collapsed": false
   },
   "outputs": [
    {
     "name": "stdout",
     "output_type": "stream",
     "text": [
      "[ 2.  4.  4.] [ 3.  5.  3.] [  6.   6.  10.]\n"
     ]
    }
   ],
   "source": [
    "%matplotlib inline\n",
    "import numpy as np\n",
    "import matplotlib.pyplot as plt\n",
    "import numpy.linalg as linalg\n",
    "\n",
    "def loadData(feature):\n",
    "    data = np.loadtxt('wass2.csv', skiprows = 1, delimiter=';');\n",
    "    columns = ['X1','X2','Y']\n",
    "    index = columns.index(feature)\n",
    "    return data[:,index]\n",
    "\n",
    "x1 = loadData('X1')\n",
    "x2 = loadData('X2')\n",
    "y = loadData('Y')\n",
    "print x1, x2, y"
   ]
  },
  {
   "cell_type": "markdown",
   "metadata": {},
   "source": [
    "### 2. Cost function"
   ]
  },
  {
   "cell_type": "code",
   "execution_count": 27,
   "metadata": {
    "collapsed": false
   },
   "outputs": [],
   "source": [
    "def calcCost(theta_0, theta_1, theta_2, x1, x2, y):\n",
    "    # calculate the cost of the linear regression function\n",
    "    m = len(x1)\n",
    "#     print \"m = \", m\n",
    "    cost_sum = 0\n",
    "    for i in range(m):\n",
    "        cost_sum += (theta_2 * x2[i] + theta_1 * x1[i] + theta_0 - y[i])**2\n",
    "    cost = cost_sum / (2.0*m)    \n",
    "    return cost"
   ]
  },
  {
   "cell_type": "markdown",
   "metadata": {},
   "source": [
    "### 3. Update parameters (Iterative)"
   ]
  },
  {
   "cell_type": "code",
   "execution_count": 22,
   "metadata": {
    "collapsed": false
   },
   "outputs": [],
   "source": [
    "def gradientIter(theta_0, theta_1, theta_2, x1, x2, y, alpha):\n",
    "    # run a single step in the iteration of the gradrient descent\n",
    "    m = len(x1)\n",
    "    sum_theta_0 = 0.0\n",
    "    sum_theta_1 = 0.0\n",
    "    sum_theta_2 = 0.0\n",
    "\n",
    "    for i in range(m):\n",
    "        sum_theta_0 += theta_1 * x1[i] + theta_2 * x2[i] + theta_0 - y[i]\n",
    "        sum_theta_1 += x1[i] * (theta_1 * x1[i] + theta_2 * x2[i] + theta_0 - y[i])\n",
    "        sum_theta_2 += x2[i] * (theta_1 * x1[i] + theta_2 * x2[i] + theta_0 - y[i])\n",
    "\n",
    "    new_theta_0 = theta_0 - ((1.0/m)*sum_theta_0 * alpha)\n",
    "    new_theta_1 = theta_1 - ((1.0/m)*sum_theta_1 * alpha)\n",
    "    new_theta_2 = theta_2 - ((1.0/m)*sum_theta_2 * alpha)\n",
    "    return [new_theta_0, new_theta_1, new_theta_2]"
   ]
  },
  {
   "cell_type": "markdown",
   "metadata": {},
   "source": [
    "### 3. Update parameters (Vectorized)"
   ]
  },
  {
   "cell_type": "code",
   "execution_count": 4,
   "metadata": {
    "collapsed": false
   },
   "outputs": [],
   "source": [
    "def regressionVec(x, y):\n",
    "    m = len(x)\n",
    "    # create design matrix\n",
    "    X = np.ones((m, 2))\n",
    "    for i in range(m):\n",
    "        X[i, 1] = x[i]\n",
    "        \n",
    "    # vectorize predicted output\n",
    "    Y = y[:, np.newaxis]\n",
    "    \n",
    "    # apply normal equation\n",
    "    norm = np.dot(np.dot(linalg.inv(np.dot(X.T, X)), X.T), Y)\n",
    "    \n",
    "    return norm[0][0], norm[1][0]"
   ]
  },
  {
   "cell_type": "markdown",
   "metadata": {},
   "source": [
    "### 4. Regression Function"
   ]
  },
  {
   "cell_type": "code",
   "execution_count": 23,
   "metadata": {
    "collapsed": false
   },
   "outputs": [],
   "source": [
    "def regressionIter(theta_0, theta_1, theta_2, x1, x2, y, alpha, n_iter): \n",
    "    # run n_iter iterations for the gradient descent\n",
    "    while n_iter > 0:\n",
    "        step = gradientIter(theta_0, theta_1, theta_2, x1, x2, y, alpha) \n",
    "        theta_0 = step[0]\n",
    "        theta_1 = step[1]\n",
    "        theta_2 = step[2]\n",
    "        cost = calcCost(theta_0, theta_1, theta_2, x1, x2, y)\n",
    "        n_iter -= 1\n",
    "    return step[0], step[1], step[2], cost"
   ]
  },
  {
   "cell_type": "code",
   "execution_count": 28,
   "metadata": {
    "collapsed": false
   },
   "outputs": [
    {
     "name": "stdout",
     "output_type": "stream",
     "text": [
      "m =  3\n",
      "cost0 =  54.8\n",
      "m =  3\n",
      "m =  3\n",
      "m =  3\n",
      "iter1 =  (0.25733333333333336, 0.39733333333333337, 0.39866666666666672, 11.191265185185182)\n",
      "iter2 =  (0.30023111111111112, 0.54391111111111112, 0.54176000000000002, 7.3968829178732518)\n"
     ]
    }
   ],
   "source": [
    "cost0 = 3 * calcCost(0.2, 0.2, 0.2, x1, x2, y)\n",
    "print \"cost0 = \", cost0\n",
    "iter_1 = regressionIter(0.2, 0.2, 0.2, x1, x2, y, 0.01, 1) \n",
    "iter_2 = regressionIter(0.2, 0.2, 0.2, x1, x2, y, 0.01, 2) \n",
    "print \"iter1 = \", iter_1\n",
    "print \"iter2 = \", iter_2\n",
    "\n",
    "\n",
    "# vec = regressionVec(bedroom, price)\n",
    "# vec_cost = calcCost(vec[0], vec[1], bedroom, price)\n",
    "\n",
    "# title_1 = '${\\Theta_0}$ = %.2f, ${\\Theta_1}$ = %.2f, J(${\\Theta}$) = %.2f,' % (iter_1[0] , iter_1[1], iter_1[2])\n",
    "# title_2 = '${\\Theta_0}$ = %.2f, ${\\Theta_1}$ = %.2f, J(${\\Theta}$) = %.2f,' % (iter_2[0] , iter_2[1], iter_2[2])\n",
    "# title_3 = '${\\Theta_0}$ = %.2f, ${\\Theta_1}$ = %.2f, J(${\\Theta}$) = %.2f,' % (iter_3[0] , iter_3[1], iter_3[2])\n",
    "# title_4 = '${\\Theta_0}$ = %.2f, ${\\Theta_1}$ = %.2f, J(${\\Theta}$) = %.2f,' % (vec[0] , vec[1], vec_cost)\n",
    "\n",
    "# plt.figure(figsize=(20, 10))\n",
    "# plt.suptitle('Number of bedrooms vs. price')\n",
    "\n",
    "# plt.subplot(2,2,1)\n",
    "# plt.scatter(bedroom, price)\n",
    "# plt.title('5 iterations')\n",
    "# plt.axis([0,12,0,6000000])\n",
    "# plt.xlabel(title_1)\n",
    "# x = np.arange(max(bedroom)+1)\n",
    "# y = iter_1[0] + iter_1[1] * x\n",
    "# plt.plot(x,y)\n",
    "\n",
    "# plt.subplot(2,2,2)\n",
    "# plt.scatter(bedroom, price)\n",
    "# plt.title('50 iterations')\n",
    "# plt.axis([0,12,0,6000000])\n",
    "# plt.xlabel(title_2)\n",
    "# x = np.arange(max(bedroom)+1)\n",
    "# y = iter_2[0] + iter_2[1] * x\n",
    "# plt.plot(x,y)\n",
    "\n",
    "# plt.subplot(2,2,3)\n",
    "# plt.scatter(bedroom, price)\n",
    "# plt.title('500 iterations')\n",
    "# plt.axis([0,12,0,6000000])\n",
    "# plt.xlabel(title_3)\n",
    "# x = np.arange(max(bedroom)+1)\n",
    "# y = iter_3[0] + iter_3[1] * x\n",
    "# plt.plot(x,y)\n",
    "\n",
    "# plt.subplot(2,2,4)\n",
    "# plt.scatter(bedroom, price)\n",
    "# plt.title('vectorized')\n",
    "# plt.axis([0,12,0,6000000])\n",
    "# plt.xlabel(title_4)\n",
    "# x = np.arange(max(bedroom)+1)\n",
    "# y = vec[0] + vec[1] * x\n",
    "# plt.plot(x,y)\n",
    "\n",
    "# plt.show()"
   ]
  },
  {
   "cell_type": "code",
   "execution_count": null,
   "metadata": {
    "collapsed": true
   },
   "outputs": [],
   "source": []
  }
 ],
 "metadata": {
  "kernelspec": {
   "display_name": "Python 2",
   "language": "python",
   "name": "python2"
  },
  "language_info": {
   "codemirror_mode": {
    "name": "ipython",
    "version": 2
   },
   "file_extension": ".py",
   "mimetype": "text/x-python",
   "name": "python",
   "nbconvert_exporter": "python",
   "pygments_lexer": "ipython2",
   "version": "2.7.10"
  }
 },
 "nbformat": 4,
 "nbformat_minor": 1
}
