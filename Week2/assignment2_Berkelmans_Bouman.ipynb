{
 "cells": [
  {
   "cell_type": "markdown",
   "metadata": {},
   "source": [
    "# Leren: Programming assignment 2\n",
    "\n",
    "**Student 1:**  <span style=\"color:red\">Wim Berkelmans</span> (<span style=\"color:red\">10793674</span>)<br>\n",
    "**Student 2:** <span style=\"color:red\">Philip Bouman</span> (<span style=\"color:red\">10668667</span>)<br>\n",
    "\n"
   ]
  },
  {
   "cell_type": "markdown",
   "metadata": {},
   "source": [
    "## Multivariate Linear Regression\n",
    "1) Reading in data"
   ]
  },
  {
   "cell_type": "code",
   "execution_count": 11,
   "metadata": {
    "collapsed": false
   },
   "outputs": [],
   "source": [
    "%matplotlib inline\n",
    "import numpy as np\n",
    "import matplotlib.pyplot as plt\n",
    "import numpy.linalg as linalg\n",
    "\n",
    "def loadData(feature):\n",
    "    # load input:\n",
    "    # features: Bedrooms, Bathrooms, Size\n",
    "    # target: Price\n",
    "    data = np.loadtxt('HousesRegr.csv', skiprows = 1, delimiter=';');\n",
    "    columns = ['MLS','Bedrooms','Bathrooms','Size','Price']\n",
    "    index = columns.index(feature)\n",
    "    return data[:,index]\n",
    "\n",
    "bedroom = loadData('Bedrooms')\n",
    "bathroom = loadData('Bathrooms')\n",
    "size = loadData('Size')\n",
    "price = loadData('Price')\n",
    "\n",
    "# create easy format and add x_0's\n",
    "def designMatrix(n):\n",
    "    data = np.loadtxt('HousesRegr.csv', skiprows = 1, delimiter=';');\n",
    "    m = len(data)\n",
    "    X = np.ones((m,n))\n",
    "    for i in range(m):\n",
    "        for j in range(1,n):\n",
    "            X[i, j] = data[i,j]\n",
    "\n",
    "    return X\n",
    "\n",
    "# vectorize predicted output\n",
    "def targetVec(y):\n",
    "    Y = y[:, np.newaxis] \n",
    "    return Y\n",
    "\n",
    "def normalize(X):\n",
    "    n = len(X[0])\n",
    "    for i in range(1,n):\n",
    "        max_value = np.amax(X[:,i])\n",
    "        min_value = np.amin(X[:,i])\n",
    "        mean_value = np.mean(X[:,i])\n",
    "        mean_norm = np.subtract(X[:,i], mean_value)\n",
    "        range_value = max_value - min_value\n",
    "        X[:,i] = np.divide(mean_norm, range_value)\n",
    "    return X"
   ]
  },
  {
   "cell_type": "markdown",
   "metadata": {},
   "source": [
    "2) Gradient function"
   ]
  },
  {
   "cell_type": "code",
   "execution_count": 12,
   "metadata": {
    "collapsed": true
   },
   "outputs": [],
   "source": [
    "def gradient(X, Y, Thetas, theta):\n",
    "    # calculate the gradient for 1 paramater: param\n",
    "    # m = number of training examples\n",
    "    m = len(X)\n",
    "    # n = number of thetas\n",
    "    n = len(Thetas)\n",
    "    # loop over training examples \n",
    "    sum = 0\n",
    "    for i in range(m):\n",
    "        h = 0\n",
    "        # loop over features\n",
    "        for j in range(n):\n",
    "            h += Thetas[j] * X[i][j]\n",
    "            \n",
    "        sum += (h - Y[i]) * X[i][theta]\n",
    "    \n",
    "    gradient = 1.0/m * sum\n",
    "    return gradient"
   ]
  },
  {
   "cell_type": "markdown",
   "metadata": {},
   "source": [
    "3) Parameter updating"
   ]
  },
  {
   "cell_type": "code",
   "execution_count": 13,
   "metadata": {
    "collapsed": true
   },
   "outputs": [],
   "source": [
    "# Version 1\n",
    "def updateThetas(X, Y, Thetas, alpha):\n",
    "    # number of training examples\n",
    "    m = len(X)\n",
    "    # number of features\n",
    "    n = len(X[0])\n",
    "    \n",
    "    grad = np.zeros(n)\n",
    "    new_thetas = np.zeros(n)\n",
    "    \n",
    "    # calculate gradient for each theta\n",
    "    for i in range(n):\n",
    "        grad[i] = gradient(X, Y, Thetas, i)\n",
    "        \n",
    "    # loop over thetas\n",
    "    for i in range(n):\n",
    "        new_thetas[i] = Thetas[i] - alpha * grad[i]\n",
    "        \n",
    "    return new_thetas\n",
    "\n",
    "# Version 2\n",
    "def updateThetasVec(X, Y, Thetas, alpha):\n",
    "    m = len(X)\n",
    "    n = len(X[0])\n",
    "    \n",
    "    theta_temp = np.zeros((m,n))\n",
    "    new_thetas = np.zeros(n) \n",
    "    \n",
    "    # loop over training examples\n",
    "    for i in range(m):\n",
    "\n",
    "        # loop over thetas/features\n",
    "        # calculate and store intermediate values for thetas (all the calculations for one training example)\n",
    "        for j in range(n):\n",
    "            theta_temp[i][j] = (np.sum(Thetas[:n] * X[i,:n]) - Y[i]) * X[i][j]\n",
    "    \n",
    "    # sum over intermediate values and apply learning rate and normalization\n",
    "    for i in range(n):\n",
    "        new_thetas[i] = Thetas[i] - alpha * 1.0/m * np.sum(theta_temp[0:m,i])\n",
    "    \n",
    "    return new_thetas\n"
   ]
  },
  {
   "cell_type": "markdown",
   "metadata": {},
   "source": [
    "4) Cost function"
   ]
  },
  {
   "cell_type": "code",
   "execution_count": 14,
   "metadata": {
    "collapsed": true
   },
   "outputs": [],
   "source": [
    "def calcCost(Thetas, X, Y):\n",
    "    m = len(X)\n",
    "    n = len(Thetas)\n",
    "    cost_sum = 0\n",
    "    \n",
    "    for i in range(n):  \n",
    "        cost_sum += (np.sum(Thetas[:n] * X[i,:n]) - Y[i])**2\n",
    "            \n",
    "    cost = cost_sum / (2.0*m)    \n",
    "    return cost\n",
    "\n",
    "def calcCostVec(Thetas, X, Y):\n",
    "    m = len(Y)\n",
    "    errorSquared = (np.dot(X, Thetas) - Y)**2\n",
    "    \n",
    "    # sum over errorSquared by multiplying with a rowvector of ones\n",
    "    ones = np.ones(m)\n",
    "    cost = np.dot(ones.T, errorSquared)/(2.0*m)\n",
    "    return cost"
   ]
  },
  {
   "cell_type": "markdown",
   "metadata": {},
   "source": [
    "5) Main, optimization learning rate and iterations"
   ]
  },
  {
   "cell_type": "code",
   "execution_count": 15,
   "metadata": {
    "collapsed": false
   },
   "outputs": [
    {
     "name": "stdout",
     "output_type": "stream",
     "text": [
      "Input test data from written assignment:\n",
      "Final values of parameters:  [ 0.30023111  0.54391111  0.54176   ]\n",
      "Final cost:  7.39688291787\n",
      "\n",
      "Input is HousesRegr.csv, alpha =  1  with  200 iterations.\n",
      "Final values of parameters:  [  383329.11011524  -269334.98576148   620216.44819484  1546227.67924897]\n",
      "Final cost:  [ 86901044.21568717]\n"
     ]
    }
   ],
   "source": [
    "def multiple(X, Y, Thetas, alpha, n_iter):\n",
    "    while n_iter > 0:\n",
    "        Thetas = updateThetas(X, Y, Thetas, alpha)\n",
    "        n_iter -= 1\n",
    "    return Thetas\n",
    "\n",
    "def multipleVec(X, Y, Thetas, alpha, n_iter):\n",
    "    while n_iter > 0:\n",
    "        Thetas = updateThetasVec(X, Y, Thetas, alpha)\n",
    "        n_iter -= 1\n",
    "    return Thetas\n",
    "\n",
    "# test set as input\n",
    "X = np.array([[1,2,3],[1,4,5],[1,4,3]])\n",
    "Y = np.array([6,6,10])\n",
    "Thetas = [0.2,0.2,0.2]\n",
    "# print X\n",
    "print \"Input test data from written assignment:\"\n",
    "\n",
    "final_thetas = multiple(X, Y, Thetas, 0.01, 2)\n",
    "print \"Final values of parameters: \", final_thetas\n",
    "print \"Final cost: \", calcCost(final_thetas, X, Y)\n",
    "# final_thetas = multipleVec(X, Y, Thetas, 0.01, 2)\n",
    "# print \"Final values of parameters, vector based: \", final_thetas\n",
    "print \n",
    "\n",
    "# input is HousesRegr.csv\n",
    "X = designMatrix(4)\n",
    "X = normalize(X)\n",
    "# print X\n",
    "Y = targetVec(price)\n",
    "# print Y\n",
    "Thetas = [100000,100000,100000,100000]\n",
    "\n",
    "# alpha = 0.00000001\n",
    "# iters = 200\n",
    "# print \"Input is HousesRegr.csv, alpha = \", alpha, \" with \", iters, \"iterations.\"\n",
    "# final_thetas = multiple(X, Y, Thetas, alpha, iters)\n",
    "# print \"Final values of parameters: \", final_thetas\n",
    "# print \"Final cost: \", calcCost(final_thetas, X, Y)\n",
    "\n",
    "# alpha = 0.01\n",
    "# iters = 200\n",
    "# print \"Input is HousesRegr.csv, alpha = \", alpha, \" with \", iters, \"iterations.\"\n",
    "# final_thetas = multiple(X, Y, Thetas, alpha, iters)\n",
    "# print \"Final values of parameters: \", final_thetas\n",
    "# print \"Final cost: \", calcCost(final_thetas, X, Y)\n",
    "\n",
    "# alpha = 0.01\n",
    "# iters = 2000\n",
    "# print \"Input is HousesRegr.csv, alpha = \", alpha, \" with \", iters, \"iterations.\"\n",
    "# final_thetas = multiple(X, Y, Thetas, alpha, iters)\n",
    "# print \"Final values of parameters: \", final_thetas\n",
    "# print \"Final cost: \", calcCost(final_thetas, X, Y)\n",
    "\n",
    "# alpha = 0.1\n",
    "# iters = 200\n",
    "# print \"Input is HousesRegr.csv, alpha = \", alpha, \" with \", iters, \"iterations.\"\n",
    "# final_thetas = multiple(X, Y, Thetas, alpha, iters)\n",
    "# print \"Final values of parameters: \", final_thetas\n",
    "# print \"Final cost: \", calcCost(final_thetas, X, Y)\n",
    "\n",
    "alpha = 1\n",
    "iters = 200\n",
    "print \"Input is HousesRegr.csv, alpha = \", alpha, \" with \", iters, \"iterations.\"\n",
    "final_thetas = multiple(X, Y, Thetas, alpha, iters)\n",
    "print \"Final values of parameters: \", final_thetas\n",
    "print \"Final cost: \", calcCost(final_thetas, X, Y)\n",
    "\n",
    "# alpha = 1\n",
    "# iters = 2000\n",
    "# print \"Input is HousesRegr.csv, alpha = \", alpha, \" with \", iters, \"iterations.\"\n",
    "# final_thetas = multiple(X, Y, Thetas, alpha, iters)\n",
    "# print \"Final values of parameters: \", final_thetas\n",
    "# print \"Final cost: \", calcCost(final_thetas, X, Y)\n",
    "\n",
    "# final_thetas = multipleVec(X, Y, Thetas, 0.01, 2)\n",
    "# print \"Final values of parameters, vector based: \", final_thetas\n",
    "# print \"Final cost, vector based: \", calcCostVec(final_thetas, X, Y)"
   ]
  },
  {
   "cell_type": "markdown",
   "metadata": {},
   "source": [
    "**Discussion:**\n",
    "\n",
    "The data from HousesRegr.csv are normalized.\n",
    "A bigger alpha improves the speed of convergence.\n",
    "\n",
    "-----------------------------------"
   ]
  },
  {
   "cell_type": "markdown",
   "metadata": {},
   "source": [
    "## Polynomial Regression\n",
    "1) Extension to polynomial regression"
   ]
  },
  {
   "cell_type": "code",
   "execution_count": null,
   "metadata": {
    "collapsed": true
   },
   "outputs": [],
   "source": []
  },
  {
   "cell_type": "markdown",
   "metadata": {},
   "source": [
    "2) Cost function"
   ]
  },
  {
   "cell_type": "code",
   "execution_count": null,
   "metadata": {
    "collapsed": true
   },
   "outputs": [],
   "source": []
  },
  {
   "cell_type": "markdown",
   "metadata": {},
   "source": [
    "3) Optimization learning rate and iterations"
   ]
  },
  {
   "cell_type": "code",
   "execution_count": 16,
   "metadata": {
    "collapsed": false
   },
   "outputs": [
    {
     "name": "stdout",
     "output_type": "stream",
     "text": [
      "Input is HousesRegr.csv, alpha =  1  with  200 iterations.\n",
      "Final values of parameters:  [  383329.11011524  -286100.04351846  -265236.37361688   435657.51781904\n",
      "   211900.97704529  1088886.92732143   843084.29408607]\n",
      "Final cost:  [ 97929111.38177693]\n"
     ]
    }
   ],
   "source": [
    "# def multiplePol(X, Y, Thetas, alpha, n_iter):\n",
    "#     while n_iter > 0:\n",
    "#         Thetas = updateThetas(X, Y, Thetas, alpha)\n",
    "#         n_iter -= 1\n",
    "#     return Thetas\n",
    "\n",
    "X = designMatrix(4)\n",
    "X = np.repeat(X, 2, axis=1)\n",
    "X = np.delete(X, 1, 1)\n",
    "m = len(X)\n",
    "for i in range(m):\n",
    "    for j in range(3):\n",
    "        X[i,2*j + 2] = X[i,2*j + 2]**2\n",
    "        \n",
    "X = normalize(X)\n",
    "Y = targetVec(price)\n",
    "Thetas = [100000,100000,100000,100000,100000,100000,100000]\n",
    "\n",
    "alpha = 1\n",
    "iters = 200\n",
    "print \"Input is HousesRegr.csv, alpha = \", alpha, \" with \", iters, \"iterations.\"\n",
    "final_thetas = multiple(X, Y, Thetas, alpha, iters)\n",
    "print \"Final values of parameters: \", final_thetas\n",
    "print \"Final cost: \", calcCost(final_thetas, X, Y)\n"
   ]
  },
  {
   "cell_type": "markdown",
   "metadata": {},
   "source": [
    "**Discussion:**\n",
    "\n",
    "Adding squares of the input variables does not improve the cost.\n",
    "\n",
    "-----------------------------------"
   ]
  },
  {
   "cell_type": "markdown",
   "metadata": {},
   "source": [
    "## Logistic Regression\n",
    "1) Reading in data"
   ]
  },
  {
   "cell_type": "code",
   "execution_count": 17,
   "metadata": {
    "collapsed": true
   },
   "outputs": [],
   "source": [
    "# create easy format and add x_0's\n",
    "def readData():\n",
    "    data = np.loadtxt('digits123.csv', delimiter=',');\n",
    "    return data"
   ]
  },
  {
   "cell_type": "markdown",
   "metadata": {},
   "source": [
    "2) Gradient calculating and parameter updating"
   ]
  },
  {
   "cell_type": "code",
   "execution_count": 18,
   "metadata": {
    "collapsed": true
   },
   "outputs": [],
   "source": [
    "def hypothese(thetas, x):\n",
    "    n = len(thetas)\n",
    "    z = 0\n",
    "    for i in range(n):\n",
    "        z += thetas[i] * x[i]\n",
    "        \n",
    "    return 1 / (1 + exp(-z))"
   ]
  },
  {
   "cell_type": "markdown",
   "metadata": {},
   "source": [
    "3) Cost function"
   ]
  },
  {
   "cell_type": "code",
   "execution_count": 19,
   "metadata": {
    "collapsed": true
   },
   "outputs": [],
   "source": [
    "def calcCostLog(thetas, X, Y):\n",
    "    m = len(X)\n",
    "    n = len(thetas)\n",
    "    cost_sum = 0\n",
    "    \n",
    "    for i in range(m): \n",
    "        h = hypothese(thetas, X[i])\n",
    "#         cost_sum += \n",
    "            \n",
    "#     cost = cost_sum / (2.0*m)    \n",
    "    return cost\n"
   ]
  },
  {
   "cell_type": "markdown",
   "metadata": {},
   "source": [
    "4) Pairwise comparison of classess"
   ]
  },
  {
   "cell_type": "code",
   "execution_count": null,
   "metadata": {
    "collapsed": true
   },
   "outputs": [],
   "source": []
  },
  {
   "cell_type": "markdown",
   "metadata": {},
   "source": [
    "5) Optimization learning rate and iterations"
   ]
  },
  {
   "cell_type": "code",
   "execution_count": 20,
   "metadata": {
    "collapsed": false
   },
   "outputs": [],
   "source": [
    "# input is digits123.csv\n",
    "X = readData()\n",
    "Y = X[:,-1] # Y target values, last column of X\n",
    "X = np.delete(X, -1, 1) # remove target values\n",
    "X = np.insert(X, 0, 1, axis=1) # isert first column with ones"
   ]
  },
  {
   "cell_type": "markdown",
   "metadata": {},
   "source": [
    "**Discussion:**\n",
    "\n",
    "[You discussion comes here]\n",
    "\n",
    "-----------------------------------"
   ]
  }
 ],
 "metadata": {
  "kernelspec": {
   "display_name": "Python 2",
   "language": "python",
   "name": "python2"
  },
  "language_info": {
   "codemirror_mode": {
    "name": "ipython",
    "version": 2
   },
   "file_extension": ".py",
   "mimetype": "text/x-python",
   "name": "python",
   "nbconvert_exporter": "python",
   "pygments_lexer": "ipython2",
   "version": "2.7.10"
  }
 },
 "nbformat": 4,
 "nbformat_minor": 1
}
