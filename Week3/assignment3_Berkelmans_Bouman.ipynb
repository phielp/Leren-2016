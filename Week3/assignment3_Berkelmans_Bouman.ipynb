{
 "cells": [
  {
   "cell_type": "markdown",
   "metadata": {},
   "source": [
    "# Leren: Programming assignment 3\n",
    "** This assignment can be done in teams of 2 **\n",
    "\n",
    "**Student 1:**  <span style=\"color:red\">Name Lastname</span> (<span style=\"color:red\">student_id</span>)<br>\n",
    "**Student 2:** <span style=\"color:red\">Name Lastname</span> (<span style=\"color:red\">student_id</span>)<br>\n",
    "\n",
    "-----------------------------------\n",
    "This notebook provides a template for your programming assignment 3. You may want to use parts of your code from the previous assignment(s) as a starting point for this assignment. \n",
    "\n",
    "The code you hand-in should follow the structure from this document. Each part of the assignment has its own cell, you are free to add more cells. Note that the structure corresponds with the structure from the actual programming assignment. Make sure you read this for the full explanation of what is expected of you.\n",
    "\n",
    "**Submission:**\n",
    "\n",
    "* Make sure your code can be run from top to bottom without errors.\n",
    "* Include your data files in the zip file.\n",
    "* Comment your code\n",
    "\n",
    "One way be sure you code can be run without errors is by quiting iPython completely and then restart iPython and run all cells again (you can do this by going to the menu bar above: Cell > Run all). This way you make sure that no old definitions of functions or values of variables are left (that your program might still be using).\n",
    "\n",
    "-----------------------------------\n",
    "\n",
    "If you have any questions ask your teaching assistent. We are here for you.\n",
    "\n",
    "-----------------------------------"
   ]
  },
  {
   "cell_type": "markdown",
   "metadata": {},
   "source": [
    "## Regularized Logistic Regression\n",
    "a) Implementation"
   ]
  },
  {
   "cell_type": "code",
   "execution_count": 5,
   "metadata": {
    "collapsed": true
   },
   "outputs": [],
   "source": [
    "%matplotlib inline\n",
    "import numpy as np\n",
    "import matplotlib.pyplot as plt\n",
    "import numpy.linalg as linalg\n",
    "import scipy.ndimage\n",
    "import math\n",
    "\n",
    "def readData():\n",
    "    data = np.loadtxt('digits123.csv', delimiter=',');\n",
    "    return data"
   ]
  },
  {
   "cell_type": "code",
   "execution_count": 6,
   "metadata": {
    "collapsed": true
   },
   "outputs": [],
   "source": [
    "# hypothesis function for logistic regression\n",
    "def hypothesis(thetas, x):\n",
    "    return 1.0 / (1.0 + np.exp(-np.dot(thetas, x)))\n",
    "\n",
    "\n",
    "# gradient and parameter updating\n",
    "def updateLog(X, Y, Thetas, alpha):\n",
    "    m = len(X)\n",
    "    n = len(Thetas)\n",
    "    \n",
    "    new_thetas = np.zeros(n) \n",
    "    theta_temp = np.zeros(m)\n",
    "    \n",
    "        \n",
    "    # loop over training examples\n",
    "    for i in range(m):\n",
    "\n",
    "        # loop over thetas/features\n",
    "        for j in range(n):\n",
    "            theta_temp[i] = 1.0 / (1.0 + np.exp(-np.sum(Thetas[:n] * X[i,:n]))) - Y[i]\n",
    "        \n",
    "    new_thetas = Thetas - alpha * 1/m * np.dot(X.T,theta_temp[:, np.newaxis])\n",
    "        \n",
    "    return new_thetas[:,0]"
   ]
  },
  {
   "cell_type": "code",
   "execution_count": 7,
   "metadata": {
    "collapsed": true
   },
   "outputs": [],
   "source": [
    "# cost function for logistic regression\n",
    "def calcCostLog(thetas, X, Y):\n",
    "    m = len(X)\n",
    "    cost_sum = 0.0\n",
    "    \n",
    "    for i in range(m):\n",
    "        if Y[i] > 0:\n",
    "            cost_sum += math.log(hypothesis(thetas,X[i]))\n",
    "        else:\n",
    "            cost_sum += math.log(1 - hypothesis(thetas,X[i]))\n",
    "    return -(cost_sum/m)"
   ]
  },
  {
   "cell_type": "code",
   "execution_count": 8,
   "metadata": {
    "collapsed": false
   },
   "outputs": [
    {
     "name": "stdout",
     "output_type": "stream",
     "text": [
      "final cost:  0.674708283978\n",
      "final thetas: [ 0.01972679 -0.0169288   0.01977535  0.00505484]\n"
     ]
    },
    {
     "data": {
      "text/plain": [
       "<function matplotlib.pyplot.show>"
      ]
     },
     "execution_count": 8,
     "metadata": {},
     "output_type": "execute_result"
    },
    {
     "data": {
      "image/png": "[encoded data removed]",
      "text/plain": [
       "<matplotlib.figure.Figure at 0x112d4dfd0>"
      ]
     },
     "metadata": {},
     "output_type": "display_data"
    }
   ],
   "source": [
    "def regressionLog(X, y, alpha, n_iter, thetas):\n",
    "    cost = []\n",
    "    # for number of iterations\n",
    "    while n_iter > 0:\n",
    "        # calculate cost\n",
    "        cost.append(calcCostLog(thetas, X, y))\n",
    "        # update values for theta\n",
    "        new_thetas = updateLog(X, y, thetas, alpha)\n",
    "        thetas = new_thetas        \n",
    "        n_iter -= 1\n",
    "    \n",
    "    return new_thetas, cost\n",
    "\n",
    "# input is data from written assignment\n",
    "X = np.array([[1,10,4,4],[1,7,3,3],[1,5,4,2],[1,2,3,1]])\n",
    "Y = np.array([0,0,1,1])\n",
    "thetas = np.array([0.5,0.5,0.5,0.5])\n",
    "\n",
    "new_thetas, cost = regressionLog(X, Y, 0.03, 200, thetas)\n",
    "print \"final cost: \", cost[-1]\n",
    "print \"final thetas:\",new_thetas\n",
    "plt.plot(cost)\n",
    "plt.show"
   ]
  },
  {
   "cell_type": "markdown",
   "metadata": {},
   "source": [
    "b) Two small datasets"
   ]
  },
  {
   "cell_type": "code",
   "execution_count": null,
   "metadata": {
    "collapsed": true
   },
   "outputs": [],
   "source": []
  },
  {
   "cell_type": "markdown",
   "metadata": {},
   "source": [
    "**Discussion:**\n",
    "\n",
    "[You discussion comes here]\n",
    "\n",
    "-----------------------------------"
   ]
  },
  {
   "cell_type": "markdown",
   "metadata": {},
   "source": [
    "## 2) Neural Network\n"
   ]
  },
  {
   "cell_type": "markdown",
   "metadata": {},
   "source": [
    "a) Forward Propagation"
   ]
  },
  {
   "cell_type": "code",
   "execution_count": null,
   "metadata": {
    "collapsed": true
   },
   "outputs": [],
   "source": []
  },
  {
   "cell_type": "markdown",
   "metadata": {},
   "source": [
    "b) Backpropagation on two logistic units"
   ]
  },
  {
   "cell_type": "code",
   "execution_count": null,
   "metadata": {
    "collapsed": true
   },
   "outputs": [],
   "source": []
  },
  {
   "cell_type": "markdown",
   "metadata": {},
   "source": [
    "c) Complete backpropagation on handwritten digit recognition"
   ]
  },
  {
   "cell_type": "code",
   "execution_count": null,
   "metadata": {
    "collapsed": true
   },
   "outputs": [],
   "source": []
  },
  {
   "cell_type": "markdown",
   "metadata": {},
   "source": [
    "**Discussion:**\n",
    "\n",
    "[You discussion comes here]\n",
    "\n",
    "-----------------------------------"
   ]
  }
 ],
 "metadata": {
  "kernelspec": {
   "display_name": "Python 2",
   "language": "python",
   "name": "python2"
  },
  "language_info": {
   "codemirror_mode": {
    "name": "ipython",
    "version": 2
   },
   "file_extension": ".py",
   "mimetype": "text/x-python",
   "name": "python",
   "nbconvert_exporter": "python",
   "pygments_lexer": "ipython2",
   "version": "2.7.10"
  }
 },
 "nbformat": 4,
 "nbformat_minor": 1
}
