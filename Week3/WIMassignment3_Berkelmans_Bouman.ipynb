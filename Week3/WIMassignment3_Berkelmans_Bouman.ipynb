{
 "cells": [
  {
   "cell_type": "markdown",
   "metadata": {},
   "source": [
    "# Leren: Programming assignment 3\n",
    "** This assignment can be done in teams of 2 **\n",
    "\n",
    "**Student 1:**  <span style=\"color:red\">Name Lastname</span> (<span style=\"color:red\">student_id</span>)<br>\n",
    "**Student 2:** <span style=\"color:red\">Name Lastname</span> (<span style=\"color:red\">student_id</span>)<br>\n",
    "\n",
    "-----------------------------------\n",
    "This notebook provides a template for your programming assignment 3. You may want to use parts of your code from the previous assignment(s) as a starting point for this assignment. \n",
    "\n",
    "The code you hand-in should follow the structure from this document. Each part of the assignment has its own cell, you are free to add more cells. Note that the structure corresponds with the structure from the actual programming assignment. Make sure you read this for the full explanation of what is expected of you.\n",
    "\n",
    "**Submission:**\n",
    "\n",
    "* Make sure your code can be run from top to bottom without errors.\n",
    "* Include your data files in the zip file.\n",
    "* Comment your code\n",
    "\n",
    "One way be sure you code can be run without errors is by quiting iPython completely and then restart iPython and run all cells again (you can do this by going to the menu bar above: Cell > Run all). This way you make sure that no old definitions of functions or values of variables are left (that your program might still be using).\n",
    "\n",
    "-----------------------------------\n",
    "\n",
    "If you have any questions ask your teaching assistent. We are here for you.\n",
    "\n",
    "-----------------------------------"
   ]
  },
  {
   "cell_type": "markdown",
   "metadata": {},
   "source": [
    "## Regularized Logistic Regression\n",
    "a) Implementation"
   ]
  },
  {
   "cell_type": "code",
   "execution_count": 76,
   "metadata": {
    "collapsed": true
   },
   "outputs": [],
   "source": [
    "%matplotlib inline\n",
    "import numpy as np\n",
    "import matplotlib.pyplot as plt\n",
    "import numpy.linalg as linalg\n",
    "import scipy.ndimage\n",
    "import math\n",
    "\n",
    "def readData():\n",
    "    data = np.loadtxt('digits123.csv', delimiter=',');\n",
    "    return data"
   ]
  },
  {
   "cell_type": "code",
   "execution_count": 77,
   "metadata": {
    "collapsed": true
   },
   "outputs": [],
   "source": [
    "# hypothesis function for logistic regression\n",
    "def hypothesis(thetas, x):\n",
    "    return 1.0 / (1.0 + np.exp(-np.dot(thetas, x)))\n",
    "\n",
    "\n",
    "# gradient and parameter updating\n",
    "def updateLog(X, Y, Thetas, alpha):\n",
    "    m = len(X)\n",
    "    n = len(Thetas)\n",
    "    \n",
    "    new_thetas = np.zeros(n) \n",
    "    theta_temp = np.zeros(m)\n",
    "    \n",
    "        \n",
    "    # loop over training examples\n",
    "    for i in range(m):\n",
    "\n",
    "        # loop over thetas/features\n",
    "        for j in range(n):\n",
    "            theta_temp[i] = 1.0 / (1.0 + np.exp(-np.sum(Thetas[:n] * X[i,:n]))) - Y[i]\n",
    "        \n",
    "    new_thetas = Thetas - alpha * 1/m * np.dot(X.T,theta_temp[:, np.newaxis])\n",
    "        \n",
    "    return new_thetas[:,0]"
   ]
  },
  {
   "cell_type": "code",
   "execution_count": 78,
   "metadata": {
    "collapsed": true
   },
   "outputs": [],
   "source": [
    "# cost function for logistic regression\n",
    "def calcCostLog(thetas, X, Y):\n",
    "    m = len(X)\n",
    "    cost_sum = 0.0\n",
    "    \n",
    "    for i in range(m):\n",
    "        if Y[i] > 0:\n",
    "            cost_sum += math.log(hypothesis(thetas,X[i]))\n",
    "        else:\n",
    "            cost_sum += math.log(1 - hypothesis(thetas,X[i]))\n",
    "    return -(cost_sum/m)"
   ]
  },
  {
   "cell_type": "code",
   "execution_count": 79,
   "metadata": {
    "collapsed": false
   },
   "outputs": [
    {
     "name": "stdout",
     "output_type": "stream",
     "text": [
      "final cost:  0.674708283978\n",
      "final thetas: [ 0.01972679 -0.0169288   0.01977535  0.00505484]\n"
     ]
    },
    {
     "data": {
      "text/plain": [
       "<function matplotlib.pyplot.show>"
      ]
     },
     "execution_count": 79,
     "metadata": {},
     "output_type": "execute_result"
    },
    {
     "data": {
      "image/png": "[encoded data removed]",
      "text/plain": [
       "<matplotlib.figure.Figure at 0x107a610d0>"
      ]
     },
     "metadata": {},
     "output_type": "display_data"
    }
   ],
   "source": [
    "def regressionLog(X, y, alpha, n_iter, thetas):\n",
    "    cost = []\n",
    "    # for number of iterations\n",
    "    while n_iter > 0:\n",
    "        # calculate cost\n",
    "        cost.append(calcCostLog(thetas, X, y))\n",
    "        # update values for theta\n",
    "        new_thetas = updateLog(X, y, thetas, alpha)\n",
    "        thetas = new_thetas        \n",
    "        n_iter -= 1\n",
    "    \n",
    "    return new_thetas, cost\n",
    "\n",
    "# input is data from written assignment\n",
    "X = np.array([[1,10,4,4],[1,7,3,3],[1,5,4,2],[1,2,3,1]])\n",
    "Y = np.array([0,0,1,1])\n",
    "thetas = np.array([0.5,0.5,0.5,0.5])\n",
    "\n",
    "new_thetas, cost = regressionLog(X, Y, 0.03, 200, thetas)\n",
    "print \"final cost: \", cost[-1]\n",
    "print \"final thetas:\",new_thetas\n",
    "plt.plot(cost)\n",
    "plt.show"
   ]
  },
  {
   "cell_type": "markdown",
   "metadata": {},
   "source": [
    "b) Two small datasets"
   ]
  },
  {
   "cell_type": "code",
   "execution_count": null,
   "metadata": {
    "collapsed": true
   },
   "outputs": [],
   "source": []
  },
  {
   "cell_type": "markdown",
   "metadata": {},
   "source": [
    "**Discussion:**\n",
    "\n",
    "[You discussion comes here]\n",
    "\n",
    "-----------------------------------"
   ]
  },
  {
   "cell_type": "markdown",
   "metadata": {},
   "source": [
    "## 2) Neural Network\n"
   ]
  },
  {
   "cell_type": "markdown",
   "metadata": {},
   "source": [
    "a) Forward Propagation"
   ]
  },
  {
   "cell_type": "code",
   "execution_count": 80,
   "metadata": {
    "collapsed": false
   },
   "outputs": [],
   "source": [
    "# sigmoid function\n",
    "def sigmoid(x):\n",
    "    return 1.0 / (1.0 + math.exp(-x))\n",
    "\n",
    "def forwardProp(X,Thetas1,Thetas2): # no bias and 1 hidden layer\n",
    "    # calculate for each example the activation of each hidden and each output node\n",
    "    m = len(X) # number of examples\n",
    "    n = len(X[0]) # number of variables = input nodes\n",
    "    o = len(Thetas1[0]) # number of nodes in hidden layer\n",
    "    p = len(Thetas2[0]) # number of output nodes\n",
    "    z2 = np.zeros((m,o)) # sum of terms of hidden layer for each example/node\n",
    "    z3 = np.zeros((m,p)) # sum of terms of output layer for each example/node\n",
    "    a2 = np.zeros((m,o)) # activations of hidden layer for each example/node\n",
    "    a3 = np.zeros((m,p)) # activations of output layer for each example/node\n",
    "    for i in range(m): # for each example\n",
    "        for j in range(o): # for each hidden node\n",
    "            for k in range(n): # for each input node\n",
    "                z2[i][j] += X[i][k] * Thetas1[k][j]\n",
    "                \n",
    "            a2[i][j] = sigmoid(z2[i][j])\n",
    "                \n",
    "        for j in range(p): # for each output node\n",
    "            for k in range(o): # for each hidden node\n",
    "                z3[i][j] += a2[i][k] * Thetas2[k][j]\n",
    "                \n",
    "            a3[i][j] = sigmoid(z3[i][j])\n",
    "            \n",
    "#     print \"z2: \",z2\n",
    "#     print \"z3: \",z3\n",
    "                    \n",
    "    return a2, a3"
   ]
  },
  {
   "cell_type": "code",
   "execution_count": 81,
   "metadata": {
    "collapsed": false
   },
   "outputs": [
    {
     "name": "stdout",
     "output_type": "stream",
     "text": [
      "number of examples m =  1\n",
      "number of input nodes n =  1\n",
      "number of nodes in hidden layer o =  1\n",
      "number of output nodes p =  1\n",
      "activation for hidden node is  0.26894142137\n",
      "activation for output node is  0.506723130305\n"
     ]
    }
   ],
   "source": [
    "# input is data from written assignment 3 without bias\n",
    "X = [[-5]] # 1 example with 1 input value\n",
    "Output = [[1]] # 1 output node\n",
    "Thetas1 = [[0.2]] # thetas from input to hidden layer, 1 input node, 1 hidden node\n",
    "Thetas2 = [[0.1]] # thetas from hidden to output layer, 1 hidden node, 1 output node\n",
    "\n",
    "print \"number of examples m = \",len(X)\n",
    "print \"number of input nodes n = \",len(X[0])\n",
    "print \"number of nodes in hidden layer o = \",len(Thetas1[0])\n",
    "print \"number of output nodes p = \",len(Thetas2[0])\n",
    "a2, a3 = forwardProp(X,Thetas1,Thetas2)\n",
    "print \"activation for hidden node is \",a2[0][0]\n",
    "print \"activation for output node is \",a3[0][0]"
   ]
  },
  {
   "cell_type": "markdown",
   "metadata": {},
   "source": [
    "b) Backpropagation on two logistic units"
   ]
  },
  {
   "cell_type": "code",
   "execution_count": 82,
   "metadata": {
    "collapsed": false
   },
   "outputs": [],
   "source": [
    "def backProp(X,Output,Thetas2,a2,a3):\n",
    "    m = len(X) # number of examples\n",
    "    n = len(X[0]) # number of input nodes\n",
    "    o = len(Thetas2) # number of nodes in the hidden layer\n",
    "    p = len(Output[0]) # number of output nodes\n",
    "    deltas2 = np.zeros((m,o)) # deltas of hidden layer for each example/node\n",
    "    deltas3 = np.zeros((m,p)) # deltas of output layer for each example/node\n",
    "    for i in range(m): # for each example\n",
    "        for j in range(p):\n",
    "            deltas3[i][j] = (a3[i][j] - Output[i][j]) * (1 - a3[i][j]) * a3[i][j]\n",
    "\n",
    "        for j in range(o):\n",
    "            for k in range(p):\n",
    "                deltas2[i][j] += deltas3[i][k] * Thetas2[j][k] * (1 - a2[i][j]) * a2[i][j] \n",
    "\n",
    "    return deltas2, deltas3"
   ]
  },
  {
   "cell_type": "code",
   "execution_count": 83,
   "metadata": {
    "collapsed": true
   },
   "outputs": [],
   "source": [
    "def gradientsNN(X, a2, deltas2, deltas3):\n",
    "    m = len(X) # number of examples\n",
    "    n = len(X[0]) # number of input nodes\n",
    "    o = len(deltas2[0]) # number of hidden nodes\n",
    "    p = len(deltas3[0]) # number of output nodes\n",
    "    gradients1 = np.zeros((n,o)) # gradients for thetas between input layer and hidden layer\n",
    "    gradients2 = np.zeros((o,p)) # gradients for thetas between hidden layer and output layer\n",
    "    for i in range(n):\n",
    "        for j in range(o):\n",
    "            for k in range(m):\n",
    "                gradients1[i][j] += deltas2[k][j] * X[k][i]\n",
    "                \n",
    "            gradients1[i][j] = gradients1[i][j] / m\n",
    "        \n",
    "    for i in range(o):\n",
    "        for j in range(p):\n",
    "            for k in range(m):\n",
    "                gradients2[i][j] += deltas3[k][j] * a2[k][i]\n",
    "                \n",
    "            gradients2[i][j] = gradients2[i][j] / m\n",
    "        \n",
    "    return gradients1, gradients2"
   ]
  },
  {
   "cell_type": "code",
   "execution_count": 84,
   "metadata": {
    "collapsed": true
   },
   "outputs": [],
   "source": [
    "# update thetas\n",
    "def updateThetas(Thetas1,Thetas2,gradients1,gradients2,alpha):\n",
    "    for i in range(len(Thetas1)): # for each input node\n",
    "        for j in range(len(Thetas1[0])): # for each hidden node\n",
    "            Thetas1[i][j] = Thetas1[i][j] - alpha * gradients1[i][j]\n",
    "\n",
    "    for i in range(len(Thetas2)): # for each hidden node\n",
    "        for j in range(len(Thetas2[0])): # for each output node\n",
    "            Thetas2[i][j] = Thetas2[i][j] - alpha * gradients2[i][j]\n",
    "    \n",
    "    return Thetas1, Thetas2"
   ]
  },
  {
   "cell_type": "code",
   "execution_count": 85,
   "metadata": {
    "collapsed": true
   },
   "outputs": [],
   "source": [
    "# run forward and back propagation\n",
    "def fbProp(X,Output,Thetas1,Thetas2,alpha):\n",
    "    a2, a3 = forwardProp(X,Thetas1,Thetas2)\n",
    "#     print \"a2 = \",a2\n",
    "#     print \"a3 = \",a3\n",
    "    deltas2, deltas3 = backProp(X,Output,Thetas2,a2,a3)\n",
    "#     print \"deltas2 = \",deltas2\n",
    "#     print \"deltas3 = \",deltas3\n",
    "    \n",
    "    # compute gradients\n",
    "    gradients1, gradients2 = gradientsNN(X, a2, deltas2, deltas3)\n",
    "    # update thetas\n",
    "    Thetas1, Thetas2 = updateThetas(Thetas1,Thetas2,gradients1,gradients2,alpha)\n",
    "    \n",
    "    return Thetas1, Thetas2, a3"
   ]
  },
  {
   "cell_type": "code",
   "execution_count": 86,
   "metadata": {
    "collapsed": false
   },
   "outputs": [
    {
     "name": "stdout",
     "output_type": "stream",
     "text": [
      "number of examples m =  3\n",
      "number of input nodes n =  1\n",
      "number of nodes in hidden layer o =  1\n",
      "number of output nodes p =  1\n",
      "new Thetas1 =  0.500289525192\n",
      "new Thetas2 =  0.501336728547\n"
     ]
    }
   ],
   "source": [
    "# input is data from written assignment 1 without bias\n",
    "X = [[6],[5],[3]] # 3 examples with 1 input value\n",
    "Output = [[5],[6],[10]]\n",
    "Thetas1 = [[0.5]] # thetas from input to hidden layer, 1 input node, 1 hidden node\n",
    "Thetas2 = [[0.5]] # thetas from hidden to output layer, 1 hidden node, 1 output node\n",
    "alpha = 0.001\n",
    "\n",
    "print \"number of examples m = \",len(X)\n",
    "print \"number of input nodes n = \",len(X[0])\n",
    "print \"number of nodes in hidden layer o = \",len(Thetas1[0])\n",
    "print \"number of output nodes p = \",len(Thetas2[0])\n",
    "Thetas1, Thetas2, a3 = fbProp(X,Output,Thetas1,Thetas2,alpha)\n",
    "print \"new Thetas1 = \", Thetas1[0][0]\n",
    "print \"new Thetas2 = \", Thetas2[0][0]"
   ]
  },
  {
   "cell_type": "markdown",
   "metadata": {},
   "source": [
    "c) Complete backpropagation on handwritten digit recognition"
   ]
  },
  {
   "cell_type": "code",
   "execution_count": 87,
   "metadata": {
    "collapsed": true
   },
   "outputs": [],
   "source": [
    "# read digits file\n",
    "def readDigits():\n",
    "    data = np.loadtxt('digits123.csv', delimiter=',');\n",
    "    return data"
   ]
  },
  {
   "cell_type": "code",
   "execution_count": 88,
   "metadata": {
    "collapsed": true
   },
   "outputs": [],
   "source": [
    "# calculate cost\n",
    "def costNN(Thetas1,Thetas2,Output,a3):\n",
    "    m = len(X) # number of examples\n",
    "    p = len(Thetas2[0]) # number of output nodes\n",
    "    cost = 0\n",
    "    for i in range(m):\n",
    "        for j in range(p):\n",
    "            cost += (a3[i][j] - Output[i][j])**2\n",
    "            \n",
    "    cost = cost / (2 * m)\n",
    "    return cost"
   ]
  },
  {
   "cell_type": "code",
   "execution_count": 123,
   "metadata": {
    "collapsed": false
   },
   "outputs": [],
   "source": [
    "# init\n",
    "Digits = readDigits()\n",
    "\n",
    "Y = Digits[:,-1] # Y target values, last column of Digits\n",
    "X = np.delete(Digits, -1, 1) # remove target values\n",
    "X = np.insert(X, 0, 1, axis=1) # insert first column with ones, the bias\n",
    "n_hidden = 20\n",
    "Thetas1 = np.zeros((len(X[0]),n_hidden)) # thetas from input to hidden layer\n",
    "Thetas2 = np.zeros((n_hidden,3)) # thetas from hidden to output layer\n",
    "# init thetas \n",
    "t_init = 0.05\n",
    "for i in range(64):\n",
    "    for j in range(n_hidden):\n",
    "        Thetas1[i][j] = t_init\n",
    "\n",
    "for i in range(n_hidden):\n",
    "    for j in range(3):\n",
    "        Thetas2[i][j] = t_init\n",
    "\n",
    "alpha = 0.1\n",
    "m = len(Y) # number of examples\n",
    "Target_vectors = np.zeros((m,3))\n",
    "# convert target values (1,2,3) to vectors ([1,0,0],[0,1,0],[0,0,1])\n",
    "for i in range(m):\n",
    "    value = int(Y[i]) - 1\n",
    "    Target_vectors[i][value] = 1"
   ]
  },
  {
   "cell_type": "code",
   "execution_count": 124,
   "metadata": {
    "collapsed": false
   },
   "outputs": [
    {
     "name": "stdout",
     "output_type": "stream",
     "text": [
      "number of examples m =  542\n",
      "number of input nodes n =  65\n",
      "number of nodes in hidden layer o =  20\n",
      "number of output nodes p =  3\n",
      "cost after  0  iterations =  0.570611195749\n",
      "cost after  1  iterations =  0.534141334262\n",
      "cost after  2  iterations =  0.499222966671\n",
      "cost after  3  iterations =  0.467309314495\n",
      "cost after  4  iterations =  0.439452956062\n",
      "cost after  5  iterations =  0.416131201366\n",
      "cost after  6  iterations =  0.397269581633\n",
      "cost after  7  iterations =  0.38240939717\n",
      "cost after  8  iterations =  0.370910632226\n",
      "cost after  9  iterations =  0.362110308335\n",
      "cost after  10  iterations =  0.355412635088\n",
      "cost after  11  iterations =  0.350323754971\n",
      "cost after  12  iterations =  0.346453532729\n",
      "cost after  13  iterations =  0.343502413484\n",
      "cost after  14  iterations =  0.341244043247\n",
      "cost after  15  iterations =  0.339508742599\n",
      "cost after  16  iterations =  0.338169675314\n",
      "cost after  17  iterations =  0.337131985449\n",
      "cost after  18  iterations =  0.336324553314\n",
      "cost after  19  iterations =  0.335693853656\n",
      "cost after  20  iterations =  0.335199422176\n",
      "cost after  21  iterations =  0.334810521114\n",
      "cost after  22  iterations =  0.334503686733\n",
      "cost after  23  iterations =  0.334260921349\n",
      "cost after  24  iterations =  0.334068355567\n",
      "cost after  25  iterations =  0.333915253938\n",
      "cost after  26  iterations =  0.333793272142\n",
      "cost after  27  iterations =  0.333695899164\n",
      "cost after  28  iterations =  0.333618036161\n",
      "cost after  29  iterations =  0.333555676872\n"
     ]
    },
    {
     "data": {
      "text/plain": [
       "<function matplotlib.pyplot.show>"
      ]
     },
     "execution_count": 124,
     "metadata": {},
     "output_type": "execute_result"
    },
    {
     "data": {
      "image/png": "[encoded data removed]",
      "text/plain": [
       "<matplotlib.figure.Figure at 0x10794b850>"
      ]
     },
     "metadata": {},
     "output_type": "display_data"
    }
   ],
   "source": [
    "# iterate:\n",
    "# 1. calculate activations with forward propagation\n",
    "# 2. calculate deltas with back propagation\n",
    "# 3. update thetas\n",
    "# 4. calculate cost\n",
    "\n",
    "print \"number of examples m = \",len(X)\n",
    "print \"number of input nodes n = \",len(X[0])\n",
    "print \"number of nodes in hidden layer o = \",len(Thetas1[0])\n",
    "print \"number of output nodes p = \",len(Thetas2[0])\n",
    "n_iter = 30\n",
    "cost_iter = []\n",
    "for i in range(n_iter):\n",
    "    # forward and back propagation for digits and update thetas\n",
    "    Thetas1, Thetas2, a3 = fbProp(X,Target_vectors,Thetas1,Thetas2,alpha)\n",
    "#     print \"new Thetas1 = \", Thetas1\n",
    "#     print \"new Thetas2 = \", Thetas2\n",
    "    cost = costNN(Thetas1,Thetas2,Target_vectors,a3)\n",
    "    print \"cost after \",i, \" iterations = \",cost\n",
    "    cost_iter.append(cost)\n",
    "    \n",
    "plt.plot(cost_iter)\n",
    "plt.show"
   ]
  },
  {
   "cell_type": "markdown",
   "metadata": {},
   "source": [
    "**Discussion:**\n",
    "\n",
    "I used both a hypothesis function with and without bias, but it does not seem to make a difference. The bias just adds a 65th pixel in the input.\n",
    "\n",
    "Choosing good thetas is important. With all thetas = 0.5 the cost will start high and it takes a lot of iterations to make the cost converge.\n",
    "Thetas equal to 0.05 and alpha = 0.1 show a nice convergence in 20-30 iterations. The lower the thetas, the lower the initial cost is. With thetas = 0.001 the initial cost is 0.376, which is close to the limit of the convergence, resulting in a less nice convergence curve.\n",
    "\n",
    "A low alpha of 0.001 results in a slow descent. With alpha = 0.1 the cost shows a nice curve.\n",
    "Higher alpha like 0.5 or 1 show a steep convergence to the limit, less smooth. \n",
    "\n",
    "-----------------------------------"
   ]
  },
  {
   "cell_type": "code",
   "execution_count": null,
   "metadata": {
    "collapsed": true
   },
   "outputs": [],
   "source": []
  }
 ],
 "metadata": {
  "kernelspec": {
   "display_name": "Python 2",
   "language": "python",
   "name": "python2"
  },
  "language_info": {
   "codemirror_mode": {
    "name": "ipython",
    "version": 2
   },
   "file_extension": ".py",
   "mimetype": "text/x-python",
   "name": "python",
   "nbconvert_exporter": "python",
   "pygments_lexer": "ipython2",
   "version": "2.7.10"
  }
 },
 "nbformat": 4,
 "nbformat_minor": 1
}
